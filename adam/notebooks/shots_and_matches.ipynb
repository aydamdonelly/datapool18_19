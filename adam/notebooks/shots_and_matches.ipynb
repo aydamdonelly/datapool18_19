{
 "cells": [
  {
   "cell_type": "code",
   "execution_count": 8,
   "metadata": {},
   "outputs": [
    {
     "name": "stdout",
     "output_type": "stream",
     "text": [
      "CSV file saved as 'liverpool_shots_with_venue.csv'\n"
     ]
    }
   ],
   "source": [
    "import pandas as pd\n",
    "\n",
    "# Load the first CSV (shots data)\n",
    "shots_df = pd.read_csv('../all_shots_CLandPL.csv')\n",
    "\n",
    "# Load the second CSV (match data)\n",
    "matches_df = pd.read_csv('../pl_club_results.csv')\n",
    "\n",
    "# Merge the data based on Date and Squad\n",
    "merged_df = pd.merge(shots_df, matches_df[['Date', 'Club', 'Venue']], left_on=['Date', 'Squad'], right_on=['Date', 'Club'])\n",
    "\n",
    "# Filter to only include Liverpool shots\n",
    "liverpool_shots_df = merged_df[merged_df['Squad'] == 'Liverpool']\n",
    "\n",
    "# Select the relevant columns\n",
    "liverpool_shots_df = liverpool_shots_df[['Date', 'Minute', 'Player', 'Squad', 'xG', 'PSxG', 'Outcome', 'Distance', 'Body Part', 'Notes', 'Venue']]\n",
    "\n",
    "# Save the result to a new CSV file\n",
    "liverpool_shots_df.to_csv('liverpool_shots_with_venue.csv', index=False)\n",
    "\n",
    "print(\"CSV file saved as 'liverpool_shots_with_venue.csv'\")\n"
   ]
  }
 ],
 "metadata": {
  "kernelspec": {
   "display_name": "venv",
   "language": "python",
   "name": "python3"
  },
  "language_info": {
   "codemirror_mode": {
    "name": "ipython",
    "version": 3
   },
   "file_extension": ".py",
   "mimetype": "text/x-python",
   "name": "python",
   "nbconvert_exporter": "python",
   "pygments_lexer": "ipython3",
   "version": "3.12.0"
  }
 },
 "nbformat": 4,
 "nbformat_minor": 2
}
