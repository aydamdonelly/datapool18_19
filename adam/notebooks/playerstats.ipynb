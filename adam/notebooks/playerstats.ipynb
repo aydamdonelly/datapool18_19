{
 "cells": [
  {
   "cell_type": "code",
   "execution_count": 59,
   "metadata": {},
   "outputs": [
    {
     "name": "stdout",
     "output_type": "stream",
     "text": [
      "Percentiles calculated and saved to ../op_players_list_with_percentiles.csv\n"
     ]
    }
   ],
   "source": [
    "import pandas as pd\n",
    "from scipy import stats\n",
    "\n",
    "# Load the data\n",
    "file_path = '../op_players_list.csv'\n",
    "df = pd.read_csv(file_path)\n",
    "\n",
    "# Define the stats for each position\n",
    "attacker_stats = [\n",
    "    'Goals', 'Assists', 'Expected Goals', 'Expected Assisted Goals', 'Progressive Passes Received',\n",
    "    'Shot creating actions', 'Crosses into penalty area', 'Successful take ons',\n",
    "    'Goals per shot on target', 'Shots on target %', 'Aerial duels won %', 'Carries into final 1/3'\n",
    "]\n",
    "\n",
    "midfielder_stats = [\n",
    "    'Passes completed', 'Progressive passes', 'Passes into final third', 'Shot creating actions',\n",
    "    'Interceptions', 'Balls blocked', 'Expected Assisted Goals', 'Carries into final 1/3',\n",
    "    'Goals', 'Touches', 'Long passes completed %', 'Clearances'\n",
    "]\n",
    "\n",
    "defender_stats = [\n",
    "    'Tackles won %', 'Clearances', 'Interceptions', 'Progressive moved ball distance', 'Progressive passes',\n",
    "    'Aerial duels won %', 'Balls blocked', 'Recoveries', 'Passes attempted', 'Errors', 'Fouls committed', 'Progressive pass distance', 'Yellow cards'\n",
    "]\n",
    "\n",
    "# Stats that should not be converted to per 90 minutes\n",
    "non_per_90_stats = ['Shots on target %', 'Goals per shot on target', 'Aerial duels won %', 'Long passes completed %']\n",
    "\n",
    "# Function to normalize stats to per 90 minutes\n",
    "def normalize_per_90(df, stats_list, minutes_col='Minutes played'):\n",
    "    df_normalized = df.copy()\n",
    "    for stat in stats_list:\n",
    "        if stat not in non_per_90_stats:\n",
    "            df_normalized[stat] = (df[stat] / df[minutes_col]) * 90\n",
    "    return df_normalized\n",
    "\n",
    "# Calculate percentiles for a given DataFrame and list of stats\n",
    "def calculate_percentiles(df, stats_list):\n",
    "    percentiles = df.copy()\n",
    "    for stat in stats_list:\n",
    "        if stat in ['Fouls committed', 'Errors', 'Yellow cards']:\n",
    "            # Inverse percentile for negative stats\n",
    "            percentiles[stat + '_percentile'] = (1 - df[stat].rank(pct=True)) * 100\n",
    "        else:\n",
    "            percentiles[stat + '_percentile'] = df[stat].rank(pct=True) * 100\n",
    "    return percentiles\n",
    "\n",
    "# Process each position separately\n",
    "positions = ['FW', 'MF', 'DF']\n",
    "position_stats = {\n",
    "    'FW': attacker_stats,\n",
    "    'MF': midfielder_stats,\n",
    "    'DF': defender_stats\n",
    "}\n",
    "\n",
    "# Create an empty DataFrame to store the results\n",
    "results = pd.DataFrame()\n",
    "\n",
    "for position in positions:\n",
    "    # Filter players by position\n",
    "    position_df = df[df['Position'] == position]\n",
    "    \n",
    "    # Normalize stats to per 90 minutes\n",
    "    normalized_df = normalize_per_90(position_df, position_stats[position])\n",
    "    \n",
    "    # Calculate percentiles for the relevant stats\n",
    "    percentiles_df = calculate_percentiles(normalized_df, position_stats[position])\n",
    "    \n",
    "    # Append to the results DataFrame\n",
    "    results = pd.concat([results, percentiles_df], ignore_index=True)\n",
    "\n",
    "# Calculate the Total Score as the sum of all percentiles\n",
    "percentile_columns = [col for col in results.columns if col.endswith('_percentile')]\n",
    "results['Total Score'] = results[percentile_columns].sum(axis=1)\n",
    "\n",
    "# Save the results to a new CSV file\n",
    "output_file_path = '../op_players_list_with_percentiles.csv'\n",
    "results.to_csv(output_file_path, index=False)\n",
    "\n",
    "print(f\"Percentiles calculated and saved to {output_file_path}\")\n"
   ]
  },
  {
   "cell_type": "code",
   "execution_count": 50,
   "metadata": {},
   "outputs": [],
   "source": [
    "df_total = pd.read_csv(output_file_path)"
   ]
  },
  {
   "cell_type": "code",
   "execution_count": 51,
   "metadata": {},
   "outputs": [],
   "source": [
    "df_total[\"Total Score\"] = df_total[\"Total Score\"].rank(ascending=False)"
   ]
  },
  {
   "cell_type": "code",
   "execution_count": 53,
   "metadata": {},
   "outputs": [
    {
     "data": {
      "text/plain": [
       "1907.0"
      ]
     },
     "execution_count": 53,
     "metadata": {},
     "output_type": "execute_result"
    }
   ],
   "source": [
    "df_total[\"Total Score\"].max()"
   ]
  },
  {
   "cell_type": "code",
   "execution_count": null,
   "metadata": {},
   "outputs": [],
   "source": []
  }
 ],
 "metadata": {
  "kernelspec": {
   "display_name": "venv",
   "language": "python",
   "name": "python3"
  },
  "language_info": {
   "codemirror_mode": {
    "name": "ipython",
    "version": 3
   },
   "file_extension": ".py",
   "mimetype": "text/x-python",
   "name": "python",
   "nbconvert_exporter": "python",
   "pygments_lexer": "ipython3",
   "version": "3.12.0"
  }
 },
 "nbformat": 4,
 "nbformat_minor": 2
}
