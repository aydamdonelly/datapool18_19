{
 "cells": [
  {
   "cell_type": "code",
   "execution_count": 58,
   "metadata": {},
   "outputs": [
    {
     "ename": "KeyError",
     "evalue": "'Progressive Carrying Distance'",
     "output_type": "error",
     "traceback": [
      "\u001b[0;31m---------------------------------------------------------------------------\u001b[0m",
      "\u001b[0;31mKeyError\u001b[0m                                  Traceback (most recent call last)",
      "File \u001b[0;32m~/Desktop/code/datapool18_19/venv/lib/python3.12/site-packages/pandas/core/indexes/base.py:3805\u001b[0m, in \u001b[0;36mIndex.get_loc\u001b[0;34m(self, key)\u001b[0m\n\u001b[1;32m   3804\u001b[0m \u001b[38;5;28;01mtry\u001b[39;00m:\n\u001b[0;32m-> 3805\u001b[0m     \u001b[38;5;28;01mreturn\u001b[39;00m \u001b[38;5;28;43mself\u001b[39;49m\u001b[38;5;241;43m.\u001b[39;49m\u001b[43m_engine\u001b[49m\u001b[38;5;241;43m.\u001b[39;49m\u001b[43mget_loc\u001b[49m\u001b[43m(\u001b[49m\u001b[43mcasted_key\u001b[49m\u001b[43m)\u001b[49m\n\u001b[1;32m   3806\u001b[0m \u001b[38;5;28;01mexcept\u001b[39;00m \u001b[38;5;167;01mKeyError\u001b[39;00m \u001b[38;5;28;01mas\u001b[39;00m err:\n",
      "File \u001b[0;32mindex.pyx:167\u001b[0m, in \u001b[0;36mpandas._libs.index.IndexEngine.get_loc\u001b[0;34m()\u001b[0m\n",
      "File \u001b[0;32mindex.pyx:196\u001b[0m, in \u001b[0;36mpandas._libs.index.IndexEngine.get_loc\u001b[0;34m()\u001b[0m\n",
      "File \u001b[0;32mpandas/_libs/hashtable_class_helper.pxi:7081\u001b[0m, in \u001b[0;36mpandas._libs.hashtable.PyObjectHashTable.get_item\u001b[0;34m()\u001b[0m\n",
      "File \u001b[0;32mpandas/_libs/hashtable_class_helper.pxi:7089\u001b[0m, in \u001b[0;36mpandas._libs.hashtable.PyObjectHashTable.get_item\u001b[0;34m()\u001b[0m\n",
      "\u001b[0;31mKeyError\u001b[0m: 'Progressive Carrying Distance'",
      "\nThe above exception was the direct cause of the following exception:\n",
      "\u001b[0;31mKeyError\u001b[0m                                  Traceback (most recent call last)",
      "Cell \u001b[0;32mIn[58], line 64\u001b[0m\n\u001b[1;32m     61\u001b[0m position_df \u001b[38;5;241m=\u001b[39m df[df[\u001b[38;5;124m'\u001b[39m\u001b[38;5;124mPosition\u001b[39m\u001b[38;5;124m'\u001b[39m] \u001b[38;5;241m==\u001b[39m position]\n\u001b[1;32m     63\u001b[0m \u001b[38;5;66;03m# Normalize stats to per 90 minutes\u001b[39;00m\n\u001b[0;32m---> 64\u001b[0m normalized_df \u001b[38;5;241m=\u001b[39m \u001b[43mnormalize_per_90\u001b[49m\u001b[43m(\u001b[49m\u001b[43mposition_df\u001b[49m\u001b[43m,\u001b[49m\u001b[43m \u001b[49m\u001b[43mposition_stats\u001b[49m\u001b[43m[\u001b[49m\u001b[43mposition\u001b[49m\u001b[43m]\u001b[49m\u001b[43m)\u001b[49m\n\u001b[1;32m     66\u001b[0m \u001b[38;5;66;03m# Calculate percentiles for the relevant stats\u001b[39;00m\n\u001b[1;32m     67\u001b[0m percentiles_df \u001b[38;5;241m=\u001b[39m calculate_percentiles(normalized_df, position_stats[position])\n",
      "Cell \u001b[0;32mIn[58], line 34\u001b[0m, in \u001b[0;36mnormalize_per_90\u001b[0;34m(df, stats_list, minutes_col)\u001b[0m\n\u001b[1;32m     32\u001b[0m \u001b[38;5;28;01mfor\u001b[39;00m stat \u001b[38;5;129;01min\u001b[39;00m stats_list:\n\u001b[1;32m     33\u001b[0m     \u001b[38;5;28;01mif\u001b[39;00m stat \u001b[38;5;129;01mnot\u001b[39;00m \u001b[38;5;129;01min\u001b[39;00m non_per_90_stats:\n\u001b[0;32m---> 34\u001b[0m         df_normalized[stat] \u001b[38;5;241m=\u001b[39m (\u001b[43mdf\u001b[49m\u001b[43m[\u001b[49m\u001b[43mstat\u001b[49m\u001b[43m]\u001b[49m \u001b[38;5;241m/\u001b[39m df[minutes_col]) \u001b[38;5;241m*\u001b[39m \u001b[38;5;241m90\u001b[39m\n\u001b[1;32m     35\u001b[0m \u001b[38;5;28;01mreturn\u001b[39;00m df_normalized\n",
      "File \u001b[0;32m~/Desktop/code/datapool18_19/venv/lib/python3.12/site-packages/pandas/core/frame.py:4102\u001b[0m, in \u001b[0;36mDataFrame.__getitem__\u001b[0;34m(self, key)\u001b[0m\n\u001b[1;32m   4100\u001b[0m \u001b[38;5;28;01mif\u001b[39;00m \u001b[38;5;28mself\u001b[39m\u001b[38;5;241m.\u001b[39mcolumns\u001b[38;5;241m.\u001b[39mnlevels \u001b[38;5;241m>\u001b[39m \u001b[38;5;241m1\u001b[39m:\n\u001b[1;32m   4101\u001b[0m     \u001b[38;5;28;01mreturn\u001b[39;00m \u001b[38;5;28mself\u001b[39m\u001b[38;5;241m.\u001b[39m_getitem_multilevel(key)\n\u001b[0;32m-> 4102\u001b[0m indexer \u001b[38;5;241m=\u001b[39m \u001b[38;5;28;43mself\u001b[39;49m\u001b[38;5;241;43m.\u001b[39;49m\u001b[43mcolumns\u001b[49m\u001b[38;5;241;43m.\u001b[39;49m\u001b[43mget_loc\u001b[49m\u001b[43m(\u001b[49m\u001b[43mkey\u001b[49m\u001b[43m)\u001b[49m\n\u001b[1;32m   4103\u001b[0m \u001b[38;5;28;01mif\u001b[39;00m is_integer(indexer):\n\u001b[1;32m   4104\u001b[0m     indexer \u001b[38;5;241m=\u001b[39m [indexer]\n",
      "File \u001b[0;32m~/Desktop/code/datapool18_19/venv/lib/python3.12/site-packages/pandas/core/indexes/base.py:3812\u001b[0m, in \u001b[0;36mIndex.get_loc\u001b[0;34m(self, key)\u001b[0m\n\u001b[1;32m   3807\u001b[0m     \u001b[38;5;28;01mif\u001b[39;00m \u001b[38;5;28misinstance\u001b[39m(casted_key, \u001b[38;5;28mslice\u001b[39m) \u001b[38;5;129;01mor\u001b[39;00m (\n\u001b[1;32m   3808\u001b[0m         \u001b[38;5;28misinstance\u001b[39m(casted_key, abc\u001b[38;5;241m.\u001b[39mIterable)\n\u001b[1;32m   3809\u001b[0m         \u001b[38;5;129;01mand\u001b[39;00m \u001b[38;5;28many\u001b[39m(\u001b[38;5;28misinstance\u001b[39m(x, \u001b[38;5;28mslice\u001b[39m) \u001b[38;5;28;01mfor\u001b[39;00m x \u001b[38;5;129;01min\u001b[39;00m casted_key)\n\u001b[1;32m   3810\u001b[0m     ):\n\u001b[1;32m   3811\u001b[0m         \u001b[38;5;28;01mraise\u001b[39;00m InvalidIndexError(key)\n\u001b[0;32m-> 3812\u001b[0m     \u001b[38;5;28;01mraise\u001b[39;00m \u001b[38;5;167;01mKeyError\u001b[39;00m(key) \u001b[38;5;28;01mfrom\u001b[39;00m \u001b[38;5;21;01merr\u001b[39;00m\n\u001b[1;32m   3813\u001b[0m \u001b[38;5;28;01mexcept\u001b[39;00m \u001b[38;5;167;01mTypeError\u001b[39;00m:\n\u001b[1;32m   3814\u001b[0m     \u001b[38;5;66;03m# If we have a listlike key, _check_indexing_error will raise\u001b[39;00m\n\u001b[1;32m   3815\u001b[0m     \u001b[38;5;66;03m#  InvalidIndexError. Otherwise we fall through and re-raise\u001b[39;00m\n\u001b[1;32m   3816\u001b[0m     \u001b[38;5;66;03m#  the TypeError.\u001b[39;00m\n\u001b[1;32m   3817\u001b[0m     \u001b[38;5;28mself\u001b[39m\u001b[38;5;241m.\u001b[39m_check_indexing_error(key)\n",
      "\u001b[0;31mKeyError\u001b[0m: 'Progressive Carrying Distance'"
     ]
    }
   ],
   "source": [
    "import pandas as pd\n",
    "from scipy import stats\n",
    "\n",
    "# Load the data\n",
    "file_path = '../op_players_list.csv'\n",
    "df = pd.read_csv(file_path)\n",
    "\n",
    "# Define the stats for each position\n",
    "attacker_stats = [\n",
    "    'Goals', 'Assists', 'Expected Goals', 'Expected Assisted Goals', 'Progressive Passes Received',\n",
    "    'Shot creating actions', 'Crosses into penalty area', 'Successful take ons',\n",
    "    'Goals per shot on target', 'Shots on target %', 'Aerial duels won %', 'Carries into final 1/3'\n",
    "]\n",
    "\n",
    "midfielder_stats = [\n",
    "    'Passes completed', 'Progressive passes', 'Passes into final third', 'Shot creating actions',\n",
    "    'Interceptions', 'Balls blocked', 'Expected Assisted Goals', 'Carries into final 1/3',\n",
    "    'Goals', 'Touches', 'Long passes completed %', 'Clearances'\n",
    "]\n",
    "\n",
    "defender_stats = [\n",
    "    'Tackles won %', 'Clearances', 'Interceptions', 'Progressive moved ball distance', 'Progressive passes',\n",
    "    'Aerial duels won %', 'Balls blocked', 'Recoveries', 'Passes attempted', 'Errors', 'Fouls committed', 'Progressive pass distance'\n",
    "]\n",
    "\n",
    "# Stats that should not be converted to per 90 minutes\n",
    "non_per_90_stats = ['Shots on target %', 'Goals per shot on target', 'Aerial duels won %', 'Long passes completed %']\n",
    "\n",
    "# Function to normalize stats to per 90 minutes\n",
    "def normalize_per_90(df, stats_list, minutes_col='Minutes played'):\n",
    "    df_normalized = df.copy()\n",
    "    for stat in stats_list:\n",
    "        if stat not in non_per_90_stats:\n",
    "            df_normalized[stat] = (df[stat] / df[minutes_col]) * 90\n",
    "    return df_normalized\n",
    "\n",
    "# Calculate percentiles for a given DataFrame and list of stats\n",
    "def calculate_percentiles(df, stats_list):\n",
    "    percentiles = df.copy()\n",
    "    for stat in stats_list:\n",
    "        if stat in ['Fouls committed', 'Errors']:\n",
    "            # Inverse percentile for negative stats\n",
    "            percentiles[stat + '_percentile'] = (1 - df[stat].rank(pct=True)) * 100\n",
    "        else:\n",
    "            percentiles[stat + '_percentile'] = df[stat].rank(pct=True) * 100\n",
    "    return percentiles\n",
    "\n",
    "# Process each position separately\n",
    "positions = ['FW', 'MF', 'DF']\n",
    "position_stats = {\n",
    "    'FW': attacker_stats,\n",
    "    'MF': midfielder_stats,\n",
    "    'DF': defender_stats\n",
    "}\n",
    "\n",
    "# Create an empty DataFrame to store the results\n",
    "results = pd.DataFrame()\n",
    "\n",
    "for position in positions:\n",
    "    # Filter players by position\n",
    "    position_df = df[df['Position'] == position]\n",
    "    \n",
    "    # Normalize stats to per 90 minutes\n",
    "    normalized_df = normalize_per_90(position_df, position_stats[position])\n",
    "    \n",
    "    # Calculate percentiles for the relevant stats\n",
    "    percentiles_df = calculate_percentiles(normalized_df, position_stats[position])\n",
    "    \n",
    "    # Append to the results DataFrame\n",
    "    results = pd.concat([results, percentiles_df], ignore_index=True)\n",
    "\n",
    "# Calculate the Total Score as the sum of all percentiles\n",
    "percentile_columns = [col for col in results.columns if col.endswith('_percentile')]\n",
    "results['Total Score'] = results[percentile_columns].sum(axis=1)\n",
    "\n",
    "# Save the results to a new CSV file\n",
    "output_file_path = '../op_players_list_with_percentiles.csv'\n",
    "results.to_csv(output_file_path, index=False)\n",
    "\n",
    "print(f\"Percentiles calculated and saved to {output_file_path}\")\n"
   ]
  },
  {
   "cell_type": "code",
   "execution_count": 50,
   "metadata": {},
   "outputs": [],
   "source": [
    "df_total = pd.read_csv(output_file_path)"
   ]
  },
  {
   "cell_type": "code",
   "execution_count": 51,
   "metadata": {},
   "outputs": [],
   "source": [
    "df_total[\"Total Score\"] = df_total[\"Total Score\"].rank(ascending=False)"
   ]
  },
  {
   "cell_type": "code",
   "execution_count": 53,
   "metadata": {},
   "outputs": [
    {
     "data": {
      "text/plain": [
       "1907.0"
      ]
     },
     "execution_count": 53,
     "metadata": {},
     "output_type": "execute_result"
    }
   ],
   "source": [
    "df_total[\"Total Score\"].max()"
   ]
  },
  {
   "cell_type": "code",
   "execution_count": null,
   "metadata": {},
   "outputs": [],
   "source": []
  }
 ],
 "metadata": {
  "kernelspec": {
   "display_name": "venv",
   "language": "python",
   "name": "python3"
  },
  "language_info": {
   "codemirror_mode": {
    "name": "ipython",
    "version": 3
   },
   "file_extension": ".py",
   "mimetype": "text/x-python",
   "name": "python",
   "nbconvert_exporter": "python",
   "pygments_lexer": "ipython3",
   "version": "3.12.0"
  }
 },
 "nbformat": 4,
 "nbformat_minor": 2
}
