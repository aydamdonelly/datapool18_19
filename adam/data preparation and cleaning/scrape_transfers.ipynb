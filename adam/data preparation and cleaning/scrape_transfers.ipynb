{
 "cells": [
  {
   "cell_type": "markdown",
   "metadata": {},
   "source": [
    "## Defining a function using a lot of regex to extract a float from the string retrieved from transfermarkt.de"
   ]
  },
  {
   "cell_type": "code",
   "execution_count": 7,
   "metadata": {},
   "outputs": [],
   "source": [
    "import re\n",
    "\n",
    "def parse_fee(fee_str):\n",
    "    fee_str = fee_str.strip()\n",
    "    if '€' in fee_str:\n",
    "        # Entferne nicht-numerische Zeichen, die nicht Punkt oder Buchstaben sind (für 'm' oder 'k')\n",
    "        fee_str = re.sub(r'[^\\d.mk]', '', fee_str)\n",
    "        # Prüfe auf Millionen 'm' und konvertiere entsprechend\n",
    "        if 'm' in fee_str:\n",
    "            fee_str = fee_str.replace('m', '')\n",
    "            try:\n",
    "                return float(fee_str)  # Direkte Umwandlung, da bereits in Millionen\n",
    "            except ValueError:\n",
    "                return 0.0\n",
    "        # Prüfe auf Tausend 'k' und konvertiere in Millionen\n",
    "        elif 'k' in fee_str:\n",
    "            fee_str = fee_str.replace('k', '')\n",
    "            try:\n",
    "                return float(fee_str) / 1000  # Umwandlung von Tausend in Millionen\n",
    "            except ValueError:\n",
    "                return 0.0\n",
    "        else:\n",
    "            return 0.0\n",
    "    elif 'Loan fee' in fee_str:\n",
    "        # Suche nach Zahlen und ob 'm' oder 'k' vorhanden ist\n",
    "        loan_fee = re.search(r'€([\\d.]+)(m|k)?', fee_str)\n",
    "        if loan_fee:\n",
    "            amount, unit = loan_fee.groups()\n",
    "            if unit == 'm':\n",
    "                return float(amount)\n",
    "            elif unit == 'k':\n",
    "                return float(amount) / 1000\n",
    "            else:\n",
    "                return 0.0\n",
    "        else:\n",
    "            return 0.0\n",
    "    return 0.0  # Behandle alle anderen Fälle als 0"
   ]
  },
  {
   "cell_type": "code",
   "execution_count": null,
   "metadata": {},
   "outputs": [],
   "source": []
  },
  {
   "cell_type": "markdown",
   "metadata": {},
   "source": [
    "## Scraping the transfer data and loading it into a .csv"
   ]
  },
  {
   "cell_type": "code",
   "execution_count": 1,
   "metadata": {},
   "outputs": [
    {
     "ename": "NameError",
     "evalue": "name 'parse_fee' is not defined",
     "output_type": "error",
     "traceback": [
      "\u001b[0;31m---------------------------------------------------------------------------\u001b[0m",
      "\u001b[0;31mNameError\u001b[0m                                 Traceback (most recent call last)",
      "Cell \u001b[0;32mIn[1], line 63\u001b[0m\n\u001b[1;32m     53\u001b[0m clubs \u001b[38;5;241m=\u001b[39m [\n\u001b[1;32m     54\u001b[0m     (\u001b[38;5;241m31\u001b[39m, \u001b[38;5;124m\"\u001b[39m\u001b[38;5;124mLiverpool\u001b[39m\u001b[38;5;124m\"\u001b[39m),\n\u001b[1;32m     55\u001b[0m     (\u001b[38;5;241m985\u001b[39m, \u001b[38;5;124m\"\u001b[39m\u001b[38;5;124mManchester United\u001b[39m\u001b[38;5;124m\"\u001b[39m),\n\u001b[0;32m   (...)\u001b[0m\n\u001b[1;32m     59\u001b[0m     (\u001b[38;5;241m281\u001b[39m, \u001b[38;5;124m\"\u001b[39m\u001b[38;5;124mManchester City\u001b[39m\u001b[38;5;124m\"\u001b[39m)\n\u001b[1;32m     60\u001b[0m ]\n\u001b[1;32m     62\u001b[0m \u001b[38;5;28;01mfor\u001b[39;00m club_id, club_name \u001b[38;5;129;01min\u001b[39;00m clubs:\n\u001b[0;32m---> 63\u001b[0m     club_transfers \u001b[38;5;241m=\u001b[39m \u001b[43mscrape_all_seasons\u001b[49m\u001b[43m(\u001b[49m\u001b[38;5;241;43m2012\u001b[39;49m\u001b[43m,\u001b[49m\u001b[43m \u001b[49m\u001b[38;5;241;43m2018\u001b[39;49m\u001b[43m,\u001b[49m\u001b[43m \u001b[49m\u001b[43mclub_id\u001b[49m\u001b[43m,\u001b[49m\u001b[43m \u001b[49m\u001b[43mclub_name\u001b[49m\u001b[43m)\u001b[49m\n\u001b[1;32m     64\u001b[0m     all_transfers \u001b[38;5;241m=\u001b[39m pd\u001b[38;5;241m.\u001b[39mconcat([all_transfers, club_transfers], ignore_index\u001b[38;5;241m=\u001b[39m\u001b[38;5;28;01mTrue\u001b[39;00m)\n\u001b[1;32m     65\u001b[0m     club_transfers \u001b[38;5;241m=\u001b[39m scrape_all_seasons(\u001b[38;5;241m2012\u001b[39m, \u001b[38;5;241m2018\u001b[39m, club_id, club_name, \u001b[38;5;28;01mFalse\u001b[39;00m)\n",
      "Cell \u001b[0;32mIn[1], line 45\u001b[0m, in \u001b[0;36mscrape_all_seasons\u001b[0;34m(start_season, end_season, vereins_id, team_name, heim)\u001b[0m\n\u001b[1;32m     42\u001b[0m all_transfers \u001b[38;5;241m=\u001b[39m pd\u001b[38;5;241m.\u001b[39mDataFrame()\n\u001b[1;32m     44\u001b[0m \u001b[38;5;28;01mfor\u001b[39;00m season \u001b[38;5;129;01min\u001b[39;00m \u001b[38;5;28mrange\u001b[39m(start_season, end_season \u001b[38;5;241m+\u001b[39m \u001b[38;5;241m1\u001b[39m):\n\u001b[0;32m---> 45\u001b[0m     season_transfers \u001b[38;5;241m=\u001b[39m \u001b[43mscrape_transfer_data\u001b[49m\u001b[43m(\u001b[49m\u001b[43mseason\u001b[49m\u001b[43m,\u001b[49m\u001b[43m \u001b[49m\u001b[43mvereins_id\u001b[49m\u001b[43m,\u001b[49m\u001b[43m \u001b[49m\u001b[43mteam_name\u001b[49m\u001b[43m,\u001b[49m\u001b[43m \u001b[49m\u001b[43mheim\u001b[49m\u001b[43m)\u001b[49m\n\u001b[1;32m     46\u001b[0m     all_transfers \u001b[38;5;241m=\u001b[39m pd\u001b[38;5;241m.\u001b[39mconcat([all_transfers, season_transfers], ignore_index\u001b[38;5;241m=\u001b[39m\u001b[38;5;28;01mTrue\u001b[39;00m)\n\u001b[1;32m     48\u001b[0m \u001b[38;5;28;01mreturn\u001b[39;00m all_transfers\n",
      "Cell \u001b[0;32mIn[1], line 30\u001b[0m, in \u001b[0;36mscrape_transfer_data\u001b[0;34m(season, vereins_id, team_name, heim)\u001b[0m\n\u001b[1;32m     28\u001b[0m player_position \u001b[38;5;241m=\u001b[39m player_info[\u001b[38;5;241m2\u001b[39m]\u001b[38;5;241m.\u001b[39mstrip() \u001b[38;5;28;01mif\u001b[39;00m player_info \u001b[38;5;28;01melse\u001b[39;00m \u001b[38;5;124m\"\u001b[39m\u001b[38;5;124m\"\u001b[39m\n\u001b[1;32m     29\u001b[0m player_name \u001b[38;5;241m=\u001b[39m player_info[\u001b[38;5;241m1\u001b[39m]\u001b[38;5;241m.\u001b[39mstrip() \u001b[38;5;28;01mif\u001b[39;00m \u001b[38;5;28mlen\u001b[39m(player_info) \u001b[38;5;241m>\u001b[39m \u001b[38;5;241m1\u001b[39m \u001b[38;5;28;01melse\u001b[39;00m \u001b[38;5;124m\"\u001b[39m\u001b[38;5;124m\"\u001b[39m\n\u001b[0;32m---> 30\u001b[0m transfer_fee \u001b[38;5;241m=\u001b[39m \u001b[43mparse_fee\u001b[49m(cols[\u001b[38;5;241m11\u001b[39m]\u001b[38;5;241m.\u001b[39mtext\u001b[38;5;241m.\u001b[39mstrip())\n\u001b[1;32m     31\u001b[0m tag \u001b[38;5;241m=\u001b[39m \u001b[38;5;124m\"\u001b[39m\u001b[38;5;124m\"\u001b[39m\n\u001b[1;32m     32\u001b[0m \u001b[38;5;28;01mif\u001b[39;00m heim:\n",
      "\u001b[0;31mNameError\u001b[0m: name 'parse_fee' is not defined"
     ]
    }
   ],
   "source": [
    "import requests\n",
    "from bs4 import BeautifulSoup\n",
    "import pandas as pd\n",
    "\n",
    "def scrape_transfer_data(season, vereins_id, team_name, heim=True):\n",
    "    url = f'https://www.transfermarkt.com/{team_name.lower().replace(' ', '-')}/transfers/verein/{vereins_id}/saison_id/{season}'\n",
    "    headers = {'User-Agent': 'Mozilla/5.0 (Windows NT 10.0; Win64; x64) AppleWebKit/537.36 (KHTML, like Gecko) Chrome/58.0.3029.110 Safari/537.3'}\n",
    "    \n",
    "    response = requests.get(url, headers=headers)\n",
    "    soup = BeautifulSoup(response.text, 'html.parser')\n",
    "    \n",
    "    transfer_tables = soup.find_all('table', class_='items')\n",
    "    if heim:\n",
    "        transfer_table = transfer_tables[0] if transfer_tables else None\n",
    "    else:\n",
    "        transfer_table = transfer_tables[1] if len(transfer_tables) > 1 else None\n",
    "    \n",
    "    if not transfer_table:\n",
    "        return pd.DataFrame()  # return an empty DataFrame if no table found\n",
    "    \n",
    "    rows = transfer_table.find_all('tr', class_=['odd', 'even'])\n",
    "    transfers = []\n",
    "    \n",
    "    for row in rows:\n",
    "        cols = row.find_all('td')\n",
    "        if len(cols) > 3:\n",
    "            player_info = cols[1].text.split(' \\n\\n\\n')\n",
    "            player_position = player_info[2].strip() if player_info else \"\"\n",
    "            player_name = player_info[1].strip() if len(player_info) > 1 else \"\"\n",
    "            transfer_fee = parse_fee(cols[11].text.strip())\n",
    "            tag = \"\"\n",
    "            if heim:\n",
    "                tag = \"Arrival\"\n",
    "            else:\n",
    "                tag = \"Departure\"\n",
    "            season_name = str(season) + \"/\" + str(season + 1)\n",
    "            transfers.append({'Player': player_name, \"Team\": team_name, 'Position': player_position, 'Fee': transfer_fee, \"Season\": season_name, \"Transfer\": tag})\n",
    "    \n",
    "    return pd.DataFrame(transfers)\n",
    "\n",
    "def scrape_all_seasons(start_season, end_season, vereins_id, team_name, heim=True):\n",
    "    all_transfers = pd.DataFrame()\n",
    "    \n",
    "    for season in range(start_season, end_season + 1):\n",
    "        season_transfers = scrape_transfer_data(season, vereins_id, team_name, heim)\n",
    "        all_transfers = pd.concat([all_transfers, season_transfers], ignore_index=True)\n",
    "    \n",
    "    return all_transfers\n",
    "\n",
    "# Collect all transfers into a single DataFrame\n",
    "all_transfers = pd.DataFrame()\n",
    "\n",
    "clubs = [\n",
    "    (31, \"Liverpool\"),\n",
    "    (985, \"Manchester United\"),\n",
    "    (631, \"Chelsea\"),\n",
    "    (11, \"Arsenal\"),\n",
    "    (148, \"Tottenham Hotspur\"),\n",
    "    (281, \"Manchester City\")\n",
    "]\n",
    "\n",
    "for club_id, club_name in clubs:\n",
    "    club_transfers = scrape_all_seasons(2012, 2018, club_id, club_name)\n",
    "    all_transfers = pd.concat([all_transfers, club_transfers], ignore_index=True)\n",
    "    club_transfers = scrape_all_seasons(2012, 2018, club_id, club_name, False)\n",
    "    all_transfers = pd.concat([all_transfers, club_transfers], ignore_index=True)\n",
    "\n",
    "# all_transfers now contains the transfer data of all clubs from 2012 to 2022\n",
    "\n",
    "# print the sum of all Fee values of the dataframe all transfers\n",
    "print(all_transfers.to_string())\n",
    "\n",
    "# save it as a csv file\n",
    "all_transfers.to_csv('transfer_data.csv', index=False)"
   ]
  },
  {
   "cell_type": "code",
   "execution_count": null,
   "metadata": {},
   "outputs": [],
   "source": [
    "# remove the columns after the 18/19 season\n"
   ]
  }
 ],
 "metadata": {
  "kernelspec": {
   "display_name": "Python 3 (ipykernel)",
   "language": "python",
   "name": "python3"
  },
  "language_info": {
   "codemirror_mode": {
    "name": "ipython",
    "version": 3
   },
   "file_extension": ".py",
   "mimetype": "text/x-python",
   "name": "python",
   "nbconvert_exporter": "python",
   "pygments_lexer": "ipython3",
   "version": "3.12.0"
  }
 },
 "nbformat": 4,
 "nbformat_minor": 4
}
