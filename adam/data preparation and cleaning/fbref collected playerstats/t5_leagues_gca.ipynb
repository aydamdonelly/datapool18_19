{
 "cells": [
  {
   "cell_type": "markdown",
   "metadata": {},
   "source": [
    "# Aggregating all player data for in-depth analyses and comparisons"
   ]
  },
  {
   "cell_type": "code",
   "execution_count": 21,
   "metadata": {},
   "outputs": [],
   "source": [
    "# libraries\n",
    "import pandas as pd\n",
    "import numpy as np\n",
    "import time\n",
    "import re"
   ]
  },
  {
   "cell_type": "markdown",
   "metadata": {},
   "source": [
    "#### Getting the goal-specific stats for all players playing for clubs from the Top5 leagues in 2018/19\n",
    "\n",
    "**First, I retrieve the data (1), then I rename the lower level index to club and delete the last column (matches) and delete the higher index row. The nation row gets cleaned too**"
   ]
  },
  {
   "cell_type": "code",
   "execution_count": 22,
   "metadata": {},
   "outputs": [
    {
     "ename": "HTTPError",
     "evalue": "HTTP Error 429: Too Many Requests",
     "output_type": "error",
     "traceback": [
      "\u001b[0;31m---------------------------------------------------------------------------\u001b[0m",
      "\u001b[0;31mHTTPError\u001b[0m                                 Traceback (most recent call last)",
      "Cell \u001b[0;32mIn[22], line 4\u001b[0m\n\u001b[1;32m      2\u001b[0m url_list \u001b[38;5;241m=\u001b[39m \u001b[38;5;28mopen\u001b[39m(\u001b[38;5;124m'\u001b[39m\u001b[38;5;124m../urls/top5_league_clubs.txt\u001b[39m\u001b[38;5;124m'\u001b[39m)\u001b[38;5;241m.\u001b[39mread()\u001b[38;5;241m.\u001b[39msplitlines()\n\u001b[1;32m      3\u001b[0m \u001b[38;5;66;03m#read the first url\u001b[39;00m\n\u001b[0;32m----> 4\u001b[0m table \u001b[38;5;241m=\u001b[39m \u001b[43mpd\u001b[49m\u001b[38;5;241;43m.\u001b[39;49m\u001b[43mread_html\u001b[49m\u001b[43m(\u001b[49m\u001b[43murl_list\u001b[49m\u001b[43m[\u001b[49m\u001b[38;5;241;43m0\u001b[39;49m\u001b[43m]\u001b[49m\u001b[43m)\u001b[49m\n",
      "File \u001b[0;32m~/Desktop/code/datapool18_19/venv/lib/python3.12/site-packages/pandas/io/html.py:1240\u001b[0m, in \u001b[0;36mread_html\u001b[0;34m(io, match, flavor, header, index_col, skiprows, attrs, parse_dates, thousands, encoding, decimal, converters, na_values, keep_default_na, displayed_only, extract_links, dtype_backend, storage_options)\u001b[0m\n\u001b[1;32m   1224\u001b[0m \u001b[38;5;28;01mif\u001b[39;00m \u001b[38;5;28misinstance\u001b[39m(io, \u001b[38;5;28mstr\u001b[39m) \u001b[38;5;129;01mand\u001b[39;00m \u001b[38;5;129;01mnot\u001b[39;00m \u001b[38;5;28many\u001b[39m(\n\u001b[1;32m   1225\u001b[0m     [\n\u001b[1;32m   1226\u001b[0m         is_file_like(io),\n\u001b[0;32m   (...)\u001b[0m\n\u001b[1;32m   1230\u001b[0m     ]\n\u001b[1;32m   1231\u001b[0m ):\n\u001b[1;32m   1232\u001b[0m     warnings\u001b[38;5;241m.\u001b[39mwarn(\n\u001b[1;32m   1233\u001b[0m         \u001b[38;5;124m\"\u001b[39m\u001b[38;5;124mPassing literal html to \u001b[39m\u001b[38;5;124m'\u001b[39m\u001b[38;5;124mread_html\u001b[39m\u001b[38;5;124m'\u001b[39m\u001b[38;5;124m is deprecated and \u001b[39m\u001b[38;5;124m\"\u001b[39m\n\u001b[1;32m   1234\u001b[0m         \u001b[38;5;124m\"\u001b[39m\u001b[38;5;124mwill be removed in a future version. To read from a \u001b[39m\u001b[38;5;124m\"\u001b[39m\n\u001b[0;32m   (...)\u001b[0m\n\u001b[1;32m   1237\u001b[0m         stacklevel\u001b[38;5;241m=\u001b[39mfind_stack_level(),\n\u001b[1;32m   1238\u001b[0m     )\n\u001b[0;32m-> 1240\u001b[0m \u001b[38;5;28;01mreturn\u001b[39;00m \u001b[43m_parse\u001b[49m\u001b[43m(\u001b[49m\n\u001b[1;32m   1241\u001b[0m \u001b[43m    \u001b[49m\u001b[43mflavor\u001b[49m\u001b[38;5;241;43m=\u001b[39;49m\u001b[43mflavor\u001b[49m\u001b[43m,\u001b[49m\n\u001b[1;32m   1242\u001b[0m \u001b[43m    \u001b[49m\u001b[43mio\u001b[49m\u001b[38;5;241;43m=\u001b[39;49m\u001b[43mio\u001b[49m\u001b[43m,\u001b[49m\n\u001b[1;32m   1243\u001b[0m \u001b[43m    \u001b[49m\u001b[43mmatch\u001b[49m\u001b[38;5;241;43m=\u001b[39;49m\u001b[43mmatch\u001b[49m\u001b[43m,\u001b[49m\n\u001b[1;32m   1244\u001b[0m \u001b[43m    \u001b[49m\u001b[43mheader\u001b[49m\u001b[38;5;241;43m=\u001b[39;49m\u001b[43mheader\u001b[49m\u001b[43m,\u001b[49m\n\u001b[1;32m   1245\u001b[0m \u001b[43m    \u001b[49m\u001b[43mindex_col\u001b[49m\u001b[38;5;241;43m=\u001b[39;49m\u001b[43mindex_col\u001b[49m\u001b[43m,\u001b[49m\n\u001b[1;32m   1246\u001b[0m \u001b[43m    \u001b[49m\u001b[43mskiprows\u001b[49m\u001b[38;5;241;43m=\u001b[39;49m\u001b[43mskiprows\u001b[49m\u001b[43m,\u001b[49m\n\u001b[1;32m   1247\u001b[0m \u001b[43m    \u001b[49m\u001b[43mparse_dates\u001b[49m\u001b[38;5;241;43m=\u001b[39;49m\u001b[43mparse_dates\u001b[49m\u001b[43m,\u001b[49m\n\u001b[1;32m   1248\u001b[0m \u001b[43m    \u001b[49m\u001b[43mthousands\u001b[49m\u001b[38;5;241;43m=\u001b[39;49m\u001b[43mthousands\u001b[49m\u001b[43m,\u001b[49m\n\u001b[1;32m   1249\u001b[0m \u001b[43m    \u001b[49m\u001b[43mattrs\u001b[49m\u001b[38;5;241;43m=\u001b[39;49m\u001b[43mattrs\u001b[49m\u001b[43m,\u001b[49m\n\u001b[1;32m   1250\u001b[0m \u001b[43m    \u001b[49m\u001b[43mencoding\u001b[49m\u001b[38;5;241;43m=\u001b[39;49m\u001b[43mencoding\u001b[49m\u001b[43m,\u001b[49m\n\u001b[1;32m   1251\u001b[0m \u001b[43m    \u001b[49m\u001b[43mdecimal\u001b[49m\u001b[38;5;241;43m=\u001b[39;49m\u001b[43mdecimal\u001b[49m\u001b[43m,\u001b[49m\n\u001b[1;32m   1252\u001b[0m \u001b[43m    \u001b[49m\u001b[43mconverters\u001b[49m\u001b[38;5;241;43m=\u001b[39;49m\u001b[43mconverters\u001b[49m\u001b[43m,\u001b[49m\n\u001b[1;32m   1253\u001b[0m \u001b[43m    \u001b[49m\u001b[43mna_values\u001b[49m\u001b[38;5;241;43m=\u001b[39;49m\u001b[43mna_values\u001b[49m\u001b[43m,\u001b[49m\n\u001b[1;32m   1254\u001b[0m \u001b[43m    \u001b[49m\u001b[43mkeep_default_na\u001b[49m\u001b[38;5;241;43m=\u001b[39;49m\u001b[43mkeep_default_na\u001b[49m\u001b[43m,\u001b[49m\n\u001b[1;32m   1255\u001b[0m \u001b[43m    \u001b[49m\u001b[43mdisplayed_only\u001b[49m\u001b[38;5;241;43m=\u001b[39;49m\u001b[43mdisplayed_only\u001b[49m\u001b[43m,\u001b[49m\n\u001b[1;32m   1256\u001b[0m \u001b[43m    \u001b[49m\u001b[43mextract_links\u001b[49m\u001b[38;5;241;43m=\u001b[39;49m\u001b[43mextract_links\u001b[49m\u001b[43m,\u001b[49m\n\u001b[1;32m   1257\u001b[0m \u001b[43m    \u001b[49m\u001b[43mdtype_backend\u001b[49m\u001b[38;5;241;43m=\u001b[39;49m\u001b[43mdtype_backend\u001b[49m\u001b[43m,\u001b[49m\n\u001b[1;32m   1258\u001b[0m \u001b[43m    \u001b[49m\u001b[43mstorage_options\u001b[49m\u001b[38;5;241;43m=\u001b[39;49m\u001b[43mstorage_options\u001b[49m\u001b[43m,\u001b[49m\n\u001b[1;32m   1259\u001b[0m \u001b[43m\u001b[49m\u001b[43m)\u001b[49m\n",
      "File \u001b[0;32m~/Desktop/code/datapool18_19/venv/lib/python3.12/site-packages/pandas/io/html.py:983\u001b[0m, in \u001b[0;36m_parse\u001b[0;34m(flavor, io, match, attrs, encoding, displayed_only, extract_links, storage_options, **kwargs)\u001b[0m\n\u001b[1;32m    972\u001b[0m p \u001b[38;5;241m=\u001b[39m parser(\n\u001b[1;32m    973\u001b[0m     io,\n\u001b[1;32m    974\u001b[0m     compiled_match,\n\u001b[0;32m   (...)\u001b[0m\n\u001b[1;32m    979\u001b[0m     storage_options,\n\u001b[1;32m    980\u001b[0m )\n\u001b[1;32m    982\u001b[0m \u001b[38;5;28;01mtry\u001b[39;00m:\n\u001b[0;32m--> 983\u001b[0m     tables \u001b[38;5;241m=\u001b[39m \u001b[43mp\u001b[49m\u001b[38;5;241;43m.\u001b[39;49m\u001b[43mparse_tables\u001b[49m\u001b[43m(\u001b[49m\u001b[43m)\u001b[49m\n\u001b[1;32m    984\u001b[0m \u001b[38;5;28;01mexcept\u001b[39;00m \u001b[38;5;167;01mValueError\u001b[39;00m \u001b[38;5;28;01mas\u001b[39;00m caught:\n\u001b[1;32m    985\u001b[0m     \u001b[38;5;66;03m# if `io` is an io-like object, check if it's seekable\u001b[39;00m\n\u001b[1;32m    986\u001b[0m     \u001b[38;5;66;03m# and try to rewind it before trying the next parser\u001b[39;00m\n\u001b[1;32m    987\u001b[0m     \u001b[38;5;28;01mif\u001b[39;00m \u001b[38;5;28mhasattr\u001b[39m(io, \u001b[38;5;124m\"\u001b[39m\u001b[38;5;124mseekable\u001b[39m\u001b[38;5;124m\"\u001b[39m) \u001b[38;5;129;01mand\u001b[39;00m io\u001b[38;5;241m.\u001b[39mseekable():\n",
      "File \u001b[0;32m~/Desktop/code/datapool18_19/venv/lib/python3.12/site-packages/pandas/io/html.py:249\u001b[0m, in \u001b[0;36m_HtmlFrameParser.parse_tables\u001b[0;34m(self)\u001b[0m\n\u001b[1;32m    241\u001b[0m \u001b[38;5;28;01mdef\u001b[39;00m \u001b[38;5;21mparse_tables\u001b[39m(\u001b[38;5;28mself\u001b[39m):\n\u001b[1;32m    242\u001b[0m \u001b[38;5;250m    \u001b[39m\u001b[38;5;124;03m\"\"\"\u001b[39;00m\n\u001b[1;32m    243\u001b[0m \u001b[38;5;124;03m    Parse and return all tables from the DOM.\u001b[39;00m\n\u001b[1;32m    244\u001b[0m \n\u001b[0;32m   (...)\u001b[0m\n\u001b[1;32m    247\u001b[0m \u001b[38;5;124;03m    list of parsed (header, body, footer) tuples from tables.\u001b[39;00m\n\u001b[1;32m    248\u001b[0m \u001b[38;5;124;03m    \"\"\"\u001b[39;00m\n\u001b[0;32m--> 249\u001b[0m     tables \u001b[38;5;241m=\u001b[39m \u001b[38;5;28mself\u001b[39m\u001b[38;5;241m.\u001b[39m_parse_tables(\u001b[38;5;28;43mself\u001b[39;49m\u001b[38;5;241;43m.\u001b[39;49m\u001b[43m_build_doc\u001b[49m\u001b[43m(\u001b[49m\u001b[43m)\u001b[49m, \u001b[38;5;28mself\u001b[39m\u001b[38;5;241m.\u001b[39mmatch, \u001b[38;5;28mself\u001b[39m\u001b[38;5;241m.\u001b[39mattrs)\n\u001b[1;32m    250\u001b[0m     \u001b[38;5;28;01mreturn\u001b[39;00m (\u001b[38;5;28mself\u001b[39m\u001b[38;5;241m.\u001b[39m_parse_thead_tbody_tfoot(table) \u001b[38;5;28;01mfor\u001b[39;00m table \u001b[38;5;129;01min\u001b[39;00m tables)\n",
      "File \u001b[0;32m~/Desktop/code/datapool18_19/venv/lib/python3.12/site-packages/pandas/io/html.py:806\u001b[0m, in \u001b[0;36m_LxmlFrameParser._build_doc\u001b[0;34m(self)\u001b[0m\n\u001b[1;32m    804\u001b[0m             \u001b[38;5;28;01mpass\u001b[39;00m\n\u001b[1;32m    805\u001b[0m     \u001b[38;5;28;01melse\u001b[39;00m:\n\u001b[0;32m--> 806\u001b[0m         \u001b[38;5;28;01mraise\u001b[39;00m e\n\u001b[1;32m    807\u001b[0m \u001b[38;5;28;01melse\u001b[39;00m:\n\u001b[1;32m    808\u001b[0m     \u001b[38;5;28;01mif\u001b[39;00m \u001b[38;5;129;01mnot\u001b[39;00m \u001b[38;5;28mhasattr\u001b[39m(r, \u001b[38;5;124m\"\u001b[39m\u001b[38;5;124mtext_content\u001b[39m\u001b[38;5;124m\"\u001b[39m):\n",
      "File \u001b[0;32m~/Desktop/code/datapool18_19/venv/lib/python3.12/site-packages/pandas/io/html.py:785\u001b[0m, in \u001b[0;36m_LxmlFrameParser._build_doc\u001b[0;34m(self)\u001b[0m\n\u001b[1;32m    783\u001b[0m \u001b[38;5;28;01mtry\u001b[39;00m:\n\u001b[1;32m    784\u001b[0m     \u001b[38;5;28;01mif\u001b[39;00m is_url(\u001b[38;5;28mself\u001b[39m\u001b[38;5;241m.\u001b[39mio):\n\u001b[0;32m--> 785\u001b[0m         \u001b[38;5;28;01mwith\u001b[39;00m \u001b[43mget_handle\u001b[49m\u001b[43m(\u001b[49m\n\u001b[1;32m    786\u001b[0m \u001b[43m            \u001b[49m\u001b[38;5;28;43mself\u001b[39;49m\u001b[38;5;241;43m.\u001b[39;49m\u001b[43mio\u001b[49m\u001b[43m,\u001b[49m\u001b[43m \u001b[49m\u001b[38;5;124;43m\"\u001b[39;49m\u001b[38;5;124;43mr\u001b[39;49m\u001b[38;5;124;43m\"\u001b[39;49m\u001b[43m,\u001b[49m\u001b[43m \u001b[49m\u001b[43mstorage_options\u001b[49m\u001b[38;5;241;43m=\u001b[39;49m\u001b[38;5;28;43mself\u001b[39;49m\u001b[38;5;241;43m.\u001b[39;49m\u001b[43mstorage_options\u001b[49m\n\u001b[1;32m    787\u001b[0m \u001b[43m        \u001b[49m\u001b[43m)\u001b[49m \u001b[38;5;28;01mas\u001b[39;00m f:\n\u001b[1;32m    788\u001b[0m             r \u001b[38;5;241m=\u001b[39m parse(f\u001b[38;5;241m.\u001b[39mhandle, parser\u001b[38;5;241m=\u001b[39mparser)\n\u001b[1;32m    789\u001b[0m     \u001b[38;5;28;01melse\u001b[39;00m:\n\u001b[1;32m    790\u001b[0m         \u001b[38;5;66;03m# try to parse the input in the simplest way\u001b[39;00m\n",
      "File \u001b[0;32m~/Desktop/code/datapool18_19/venv/lib/python3.12/site-packages/pandas/io/common.py:728\u001b[0m, in \u001b[0;36mget_handle\u001b[0;34m(path_or_buf, mode, encoding, compression, memory_map, is_text, errors, storage_options)\u001b[0m\n\u001b[1;32m    725\u001b[0m     codecs\u001b[38;5;241m.\u001b[39mlookup_error(errors)\n\u001b[1;32m    727\u001b[0m \u001b[38;5;66;03m# open URLs\u001b[39;00m\n\u001b[0;32m--> 728\u001b[0m ioargs \u001b[38;5;241m=\u001b[39m \u001b[43m_get_filepath_or_buffer\u001b[49m\u001b[43m(\u001b[49m\n\u001b[1;32m    729\u001b[0m \u001b[43m    \u001b[49m\u001b[43mpath_or_buf\u001b[49m\u001b[43m,\u001b[49m\n\u001b[1;32m    730\u001b[0m \u001b[43m    \u001b[49m\u001b[43mencoding\u001b[49m\u001b[38;5;241;43m=\u001b[39;49m\u001b[43mencoding\u001b[49m\u001b[43m,\u001b[49m\n\u001b[1;32m    731\u001b[0m \u001b[43m    \u001b[49m\u001b[43mcompression\u001b[49m\u001b[38;5;241;43m=\u001b[39;49m\u001b[43mcompression\u001b[49m\u001b[43m,\u001b[49m\n\u001b[1;32m    732\u001b[0m \u001b[43m    \u001b[49m\u001b[43mmode\u001b[49m\u001b[38;5;241;43m=\u001b[39;49m\u001b[43mmode\u001b[49m\u001b[43m,\u001b[49m\n\u001b[1;32m    733\u001b[0m \u001b[43m    \u001b[49m\u001b[43mstorage_options\u001b[49m\u001b[38;5;241;43m=\u001b[39;49m\u001b[43mstorage_options\u001b[49m\u001b[43m,\u001b[49m\n\u001b[1;32m    734\u001b[0m \u001b[43m\u001b[49m\u001b[43m)\u001b[49m\n\u001b[1;32m    736\u001b[0m handle \u001b[38;5;241m=\u001b[39m ioargs\u001b[38;5;241m.\u001b[39mfilepath_or_buffer\n\u001b[1;32m    737\u001b[0m handles: \u001b[38;5;28mlist\u001b[39m[BaseBuffer]\n",
      "File \u001b[0;32m~/Desktop/code/datapool18_19/venv/lib/python3.12/site-packages/pandas/io/common.py:384\u001b[0m, in \u001b[0;36m_get_filepath_or_buffer\u001b[0;34m(filepath_or_buffer, encoding, compression, mode, storage_options)\u001b[0m\n\u001b[1;32m    382\u001b[0m \u001b[38;5;66;03m# assuming storage_options is to be interpreted as headers\u001b[39;00m\n\u001b[1;32m    383\u001b[0m req_info \u001b[38;5;241m=\u001b[39m urllib\u001b[38;5;241m.\u001b[39mrequest\u001b[38;5;241m.\u001b[39mRequest(filepath_or_buffer, headers\u001b[38;5;241m=\u001b[39mstorage_options)\n\u001b[0;32m--> 384\u001b[0m \u001b[38;5;28;01mwith\u001b[39;00m \u001b[43murlopen\u001b[49m\u001b[43m(\u001b[49m\u001b[43mreq_info\u001b[49m\u001b[43m)\u001b[49m \u001b[38;5;28;01mas\u001b[39;00m req:\n\u001b[1;32m    385\u001b[0m     content_encoding \u001b[38;5;241m=\u001b[39m req\u001b[38;5;241m.\u001b[39mheaders\u001b[38;5;241m.\u001b[39mget(\u001b[38;5;124m\"\u001b[39m\u001b[38;5;124mContent-Encoding\u001b[39m\u001b[38;5;124m\"\u001b[39m, \u001b[38;5;28;01mNone\u001b[39;00m)\n\u001b[1;32m    386\u001b[0m     \u001b[38;5;28;01mif\u001b[39;00m content_encoding \u001b[38;5;241m==\u001b[39m \u001b[38;5;124m\"\u001b[39m\u001b[38;5;124mgzip\u001b[39m\u001b[38;5;124m\"\u001b[39m:\n\u001b[1;32m    387\u001b[0m         \u001b[38;5;66;03m# Override compression based on Content-Encoding header\u001b[39;00m\n",
      "File \u001b[0;32m~/Desktop/code/datapool18_19/venv/lib/python3.12/site-packages/pandas/io/common.py:289\u001b[0m, in \u001b[0;36murlopen\u001b[0;34m(*args, **kwargs)\u001b[0m\n\u001b[1;32m    283\u001b[0m \u001b[38;5;250m\u001b[39m\u001b[38;5;124;03m\"\"\"\u001b[39;00m\n\u001b[1;32m    284\u001b[0m \u001b[38;5;124;03mLazy-import wrapper for stdlib urlopen, as that imports a big chunk of\u001b[39;00m\n\u001b[1;32m    285\u001b[0m \u001b[38;5;124;03mthe stdlib.\u001b[39;00m\n\u001b[1;32m    286\u001b[0m \u001b[38;5;124;03m\"\"\"\u001b[39;00m\n\u001b[1;32m    287\u001b[0m \u001b[38;5;28;01mimport\u001b[39;00m \u001b[38;5;21;01murllib\u001b[39;00m\u001b[38;5;21;01m.\u001b[39;00m\u001b[38;5;21;01mrequest\u001b[39;00m\n\u001b[0;32m--> 289\u001b[0m \u001b[38;5;28;01mreturn\u001b[39;00m \u001b[43murllib\u001b[49m\u001b[38;5;241;43m.\u001b[39;49m\u001b[43mrequest\u001b[49m\u001b[38;5;241;43m.\u001b[39;49m\u001b[43murlopen\u001b[49m\u001b[43m(\u001b[49m\u001b[38;5;241;43m*\u001b[39;49m\u001b[43margs\u001b[49m\u001b[43m,\u001b[49m\u001b[43m \u001b[49m\u001b[38;5;241;43m*\u001b[39;49m\u001b[38;5;241;43m*\u001b[39;49m\u001b[43mkwargs\u001b[49m\u001b[43m)\u001b[49m\n",
      "File \u001b[0;32m/Library/Frameworks/Python.framework/Versions/3.12/lib/python3.12/urllib/request.py:215\u001b[0m, in \u001b[0;36murlopen\u001b[0;34m(url, data, timeout, cafile, capath, cadefault, context)\u001b[0m\n\u001b[1;32m    213\u001b[0m \u001b[38;5;28;01melse\u001b[39;00m:\n\u001b[1;32m    214\u001b[0m     opener \u001b[38;5;241m=\u001b[39m _opener\n\u001b[0;32m--> 215\u001b[0m \u001b[38;5;28;01mreturn\u001b[39;00m \u001b[43mopener\u001b[49m\u001b[38;5;241;43m.\u001b[39;49m\u001b[43mopen\u001b[49m\u001b[43m(\u001b[49m\u001b[43murl\u001b[49m\u001b[43m,\u001b[49m\u001b[43m \u001b[49m\u001b[43mdata\u001b[49m\u001b[43m,\u001b[49m\u001b[43m \u001b[49m\u001b[43mtimeout\u001b[49m\u001b[43m)\u001b[49m\n",
      "File \u001b[0;32m/Library/Frameworks/Python.framework/Versions/3.12/lib/python3.12/urllib/request.py:521\u001b[0m, in \u001b[0;36mOpenerDirector.open\u001b[0;34m(self, fullurl, data, timeout)\u001b[0m\n\u001b[1;32m    519\u001b[0m \u001b[38;5;28;01mfor\u001b[39;00m processor \u001b[38;5;129;01min\u001b[39;00m \u001b[38;5;28mself\u001b[39m\u001b[38;5;241m.\u001b[39mprocess_response\u001b[38;5;241m.\u001b[39mget(protocol, []):\n\u001b[1;32m    520\u001b[0m     meth \u001b[38;5;241m=\u001b[39m \u001b[38;5;28mgetattr\u001b[39m(processor, meth_name)\n\u001b[0;32m--> 521\u001b[0m     response \u001b[38;5;241m=\u001b[39m \u001b[43mmeth\u001b[49m\u001b[43m(\u001b[49m\u001b[43mreq\u001b[49m\u001b[43m,\u001b[49m\u001b[43m \u001b[49m\u001b[43mresponse\u001b[49m\u001b[43m)\u001b[49m\n\u001b[1;32m    523\u001b[0m \u001b[38;5;28;01mreturn\u001b[39;00m response\n",
      "File \u001b[0;32m/Library/Frameworks/Python.framework/Versions/3.12/lib/python3.12/urllib/request.py:630\u001b[0m, in \u001b[0;36mHTTPErrorProcessor.http_response\u001b[0;34m(self, request, response)\u001b[0m\n\u001b[1;32m    627\u001b[0m \u001b[38;5;66;03m# According to RFC 2616, \"2xx\" code indicates that the client's\u001b[39;00m\n\u001b[1;32m    628\u001b[0m \u001b[38;5;66;03m# request was successfully received, understood, and accepted.\u001b[39;00m\n\u001b[1;32m    629\u001b[0m \u001b[38;5;28;01mif\u001b[39;00m \u001b[38;5;129;01mnot\u001b[39;00m (\u001b[38;5;241m200\u001b[39m \u001b[38;5;241m<\u001b[39m\u001b[38;5;241m=\u001b[39m code \u001b[38;5;241m<\u001b[39m \u001b[38;5;241m300\u001b[39m):\n\u001b[0;32m--> 630\u001b[0m     response \u001b[38;5;241m=\u001b[39m \u001b[38;5;28;43mself\u001b[39;49m\u001b[38;5;241;43m.\u001b[39;49m\u001b[43mparent\u001b[49m\u001b[38;5;241;43m.\u001b[39;49m\u001b[43merror\u001b[49m\u001b[43m(\u001b[49m\n\u001b[1;32m    631\u001b[0m \u001b[43m        \u001b[49m\u001b[38;5;124;43m'\u001b[39;49m\u001b[38;5;124;43mhttp\u001b[39;49m\u001b[38;5;124;43m'\u001b[39;49m\u001b[43m,\u001b[49m\u001b[43m \u001b[49m\u001b[43mrequest\u001b[49m\u001b[43m,\u001b[49m\u001b[43m \u001b[49m\u001b[43mresponse\u001b[49m\u001b[43m,\u001b[49m\u001b[43m \u001b[49m\u001b[43mcode\u001b[49m\u001b[43m,\u001b[49m\u001b[43m \u001b[49m\u001b[43mmsg\u001b[49m\u001b[43m,\u001b[49m\u001b[43m \u001b[49m\u001b[43mhdrs\u001b[49m\u001b[43m)\u001b[49m\n\u001b[1;32m    633\u001b[0m \u001b[38;5;28;01mreturn\u001b[39;00m response\n",
      "File \u001b[0;32m/Library/Frameworks/Python.framework/Versions/3.12/lib/python3.12/urllib/request.py:559\u001b[0m, in \u001b[0;36mOpenerDirector.error\u001b[0;34m(self, proto, *args)\u001b[0m\n\u001b[1;32m    557\u001b[0m \u001b[38;5;28;01mif\u001b[39;00m http_err:\n\u001b[1;32m    558\u001b[0m     args \u001b[38;5;241m=\u001b[39m (\u001b[38;5;28mdict\u001b[39m, \u001b[38;5;124m'\u001b[39m\u001b[38;5;124mdefault\u001b[39m\u001b[38;5;124m'\u001b[39m, \u001b[38;5;124m'\u001b[39m\u001b[38;5;124mhttp_error_default\u001b[39m\u001b[38;5;124m'\u001b[39m) \u001b[38;5;241m+\u001b[39m orig_args\n\u001b[0;32m--> 559\u001b[0m     \u001b[38;5;28;01mreturn\u001b[39;00m \u001b[38;5;28;43mself\u001b[39;49m\u001b[38;5;241;43m.\u001b[39;49m\u001b[43m_call_chain\u001b[49m\u001b[43m(\u001b[49m\u001b[38;5;241;43m*\u001b[39;49m\u001b[43margs\u001b[49m\u001b[43m)\u001b[49m\n",
      "File \u001b[0;32m/Library/Frameworks/Python.framework/Versions/3.12/lib/python3.12/urllib/request.py:492\u001b[0m, in \u001b[0;36mOpenerDirector._call_chain\u001b[0;34m(self, chain, kind, meth_name, *args)\u001b[0m\n\u001b[1;32m    490\u001b[0m \u001b[38;5;28;01mfor\u001b[39;00m handler \u001b[38;5;129;01min\u001b[39;00m handlers:\n\u001b[1;32m    491\u001b[0m     func \u001b[38;5;241m=\u001b[39m \u001b[38;5;28mgetattr\u001b[39m(handler, meth_name)\n\u001b[0;32m--> 492\u001b[0m     result \u001b[38;5;241m=\u001b[39m \u001b[43mfunc\u001b[49m\u001b[43m(\u001b[49m\u001b[38;5;241;43m*\u001b[39;49m\u001b[43margs\u001b[49m\u001b[43m)\u001b[49m\n\u001b[1;32m    493\u001b[0m     \u001b[38;5;28;01mif\u001b[39;00m result \u001b[38;5;129;01mis\u001b[39;00m \u001b[38;5;129;01mnot\u001b[39;00m \u001b[38;5;28;01mNone\u001b[39;00m:\n\u001b[1;32m    494\u001b[0m         \u001b[38;5;28;01mreturn\u001b[39;00m result\n",
      "File \u001b[0;32m/Library/Frameworks/Python.framework/Versions/3.12/lib/python3.12/urllib/request.py:639\u001b[0m, in \u001b[0;36mHTTPDefaultErrorHandler.http_error_default\u001b[0;34m(self, req, fp, code, msg, hdrs)\u001b[0m\n\u001b[1;32m    638\u001b[0m \u001b[38;5;28;01mdef\u001b[39;00m \u001b[38;5;21mhttp_error_default\u001b[39m(\u001b[38;5;28mself\u001b[39m, req, fp, code, msg, hdrs):\n\u001b[0;32m--> 639\u001b[0m     \u001b[38;5;28;01mraise\u001b[39;00m HTTPError(req\u001b[38;5;241m.\u001b[39mfull_url, code, msg, hdrs, fp)\n",
      "\u001b[0;31mHTTPError\u001b[0m: HTTP Error 429: Too Many Requests"
     ]
    }
   ],
   "source": [
    "# creating list of urls for each top5 league club from the 18-19 season\n",
    "url_list = open('../urls/top5_league_clubs.txt').read().splitlines()\n",
    "#read the first url\n",
    "table = pd.read_html(url_list[0])"
   ]
  },
  {
   "cell_type": "code",
   "execution_count": 20,
   "metadata": {},
   "outputs": [
    {
     "name": "stdout",
     "output_type": "stream",
     "text": [
      "Error reading data from https://fbref.com/en/squads/b8fd03ef/2018-2019/all_comps/Manchester-City-Stats-All-Competitions: HTTP Error 429: Too Many Requests\n",
      "Error reading data from https://fbref.com/en/squads/822bd0ba/2018-2019/all_comps/Liverpool-Stats-All-Competitions: HTTP Error 429: Too Many Requests\n",
      "Error reading data from https://fbref.com/en/squads/cff3d9bb/2018-2019/all_comps/Chelsea-Stats-All-Competitions: HTTP Error 429: Too Many Requests\n",
      "Error reading data from https://fbref.com/en/squads/361ca564/2018-2019/all_comps/Tottenham-Hotspur-Stats-All-Competitions: HTTP Error 429: Too Many Requests\n",
      "Error reading data from https://fbref.com/en/squads/18bb7c10/2018-2019/all_comps/Arsenal-Stats-All-Competitions: HTTP Error 429: Too Many Requests\n",
      "Error reading data from https://fbref.com/en/squads/19538871/2018-2019/all_comps/Manchester-United-Stats-All-Competitions: HTTP Error 429: Too Many Requests\n",
      "Error reading data from https://fbref.com/en/squads/8cec06e1/2018-2019/all_comps/Wolverhampton-Wanderers-Stats-All-Competitions: HTTP Error 429: Too Many Requests\n",
      "Error reading data from https://fbref.com/en/squads/d3fd31cc/2018-2019/all_comps/Everton-Stats-All-Competitions: HTTP Error 429: Too Many Requests\n",
      "Error reading data from https://fbref.com/en/squads/a2d435b3/2018-2019/all_comps/Leicester-City-Stats-All-Competitions: HTTP Error 429: Too Many Requests\n",
      "Error reading data from https://fbref.com/en/squads/7c21e445/2018-2019/all_comps/West-Ham-United-Stats-All-Competitions: HTTP Error 429: Too Many Requests\n",
      "Error reading data from https://fbref.com/en/squads/2abfe087/2018-2019/all_comps/Watford-Stats-All-Competitions: HTTP Error 429: Too Many Requests\n",
      "Error reading data from https://fbref.com/en/squads/47c64c55/2018-2019/all_comps/Crystal-Palace-Stats-All-Competitions: HTTP Error 429: Too Many Requests\n",
      "Error reading data from https://fbref.com/en/squads/b2b47a98/2018-2019/all_comps/Newcastle-United-Stats-All-Competitions: HTTP Error 429: Too Many Requests\n",
      "Error reading data from https://fbref.com/en/squads/4ba7cbea/2018-2019/all_comps/Bournemouth-Stats-All-Competitions: HTTP Error 429: Too Many Requests\n",
      "Error reading data from https://fbref.com/en/squads/943e8050/2018-2019/all_comps/Burnley-Stats-All-Competitions: HTTP Error 429: Too Many Requests\n",
      "Error reading data from https://fbref.com/en/squads/33c895d4/2018-2019/all_comps/Southampton-Stats-All-Competitions: HTTP Error 429: Too Many Requests\n",
      "Error reading data from https://fbref.com/en/squads/d07537b9/2018-2019/all_comps/Brighton-and-Hove-Albion-Stats-All-Competitions: HTTP Error 429: Too Many Requests\n",
      "Error reading data from https://fbref.com/en/squads/75fae011/2018-2019/all_comps/Cardiff-City-Stats-All-Competitions: HTTP Error 429: Too Many Requests\n",
      "Error reading data from https://fbref.com/en/squads/fd962109/2018-2019/all_comps/Fulham-Stats-All-Competitions: HTTP Error 429: Too Many Requests\n",
      "Error reading data from https://fbref.com/en/squads/f5922ca5/2018-2019/all_comps/Huddersfield-Town-Stats-All-Competitions: HTTP Error 429: Too Many Requests\n",
      "Error reading data from https://fbref.com/en/squads/054efa67/2018-2019/all_comps/Bayern-Munich-Stats-All-Competitions: HTTP Error 429: Too Many Requests\n",
      "Error reading data from https://fbref.com/en/squads/add600ae/2018-2019/all_comps/Dortmund-Stats-All-Competitions: HTTP Error 429: Too Many Requests\n",
      "Error reading data from https://fbref.com/en/squads/acbb6a5b/2018-2019/all_comps/RB-Leipzig-Stats-All-Competitions: HTTP Error 429: Too Many Requests\n",
      "Error reading data from https://fbref.com/en/squads/c7a9f859/2018-2019/all_comps/Bayer-Leverkusen-Stats-All-Competitions: HTTP Error 429: Too Many Requests\n",
      "Error reading data from https://fbref.com/en/squads/32f3ee20/2018-2019/all_comps/Monchengladbach-Stats-All-Competitions: HTTP Error 429: Too Many Requests\n",
      "Error reading data from https://fbref.com/en/squads/4eaa11d7/2018-2019/all_comps/Wolfsburg-Stats-All-Competitions: HTTP Error 429: Too Many Requests\n",
      "Error reading data from https://fbref.com/en/squads/f0ac8ee6/2018-2019/all_comps/Eintracht-Frankfurt-Stats-All-Competitions: HTTP Error 429: Too Many Requests\n",
      "Error reading data from https://fbref.com/en/squads/62add3bf/2018-2019/all_comps/Werder-Bremen-Stats-All-Competitions: HTTP Error 429: Too Many Requests\n",
      "Error reading data from https://fbref.com/en/squads/033ea6b8/2018-2019/all_comps/Hoffenheim-Stats-All-Competitions: HTTP Error 429: Too Many Requests\n",
      "Error reading data from https://fbref.com/en/squads/b1278397/2018-2019/all_comps/Dusseldorf-Stats-All-Competitions: HTTP Error 429: Too Many Requests\n",
      "Error reading data from https://fbref.com/en/squads/2818f8bc/2018-2019/all_comps/Hertha-BSC-Stats-All-Competitions: HTTP Error 429: Too Many Requests\n",
      "Error reading data from https://fbref.com/en/squads/a224b06a/2018-2019/all_comps/Mainz-05-Stats-All-Competitions: HTTP Error 429: Too Many Requests\n",
      "Error reading data from https://fbref.com/en/squads/a486e511/2018-2019/all_comps/Freiburg-Stats-All-Competitions: HTTP Error 429: Too Many Requests\n",
      "Error reading data from https://fbref.com/en/squads/c539e393/2018-2019/all_comps/Schalke-04-Stats-All-Competitions: HTTP Error 429: Too Many Requests\n",
      "Error reading data from https://fbref.com/en/squads/0cdc4311/2018-2019/all_comps/Augsburg-Stats-All-Competitions: HTTP Error 429: Too Many Requests\n",
      "Error reading data from https://fbref.com/en/squads/598bc722/2018-2019/all_comps/Stuttgart-Stats-All-Competitions: HTTP Error 429: Too Many Requests\n",
      "Error reading data from https://fbref.com/en/squads/60b5e41f/2018-2019/all_comps/Hannover-96-Stats-All-Competitions: HTTP Error 429: Too Many Requests\n",
      "Error reading data from https://fbref.com/en/squads/6f2c108c/2018-2019/all_comps/Nurnberg-Stats-All-Competitions: HTTP Error 429: Too Many Requests\n",
      "Error reading data from https://fbref.com/en/squads/206d90db/2018-2019/all_comps/Barcelona-Stats-All-Competitions: HTTP Error 429: Too Many Requests\n",
      "Error reading data from https://fbref.com/en/squads/db3b9613/2018-2019/all_comps/Atletico-Madrid-Stats-All-Competitions: HTTP Error 429: Too Many Requests\n",
      "Error reading data from https://fbref.com/en/squads/53a2f082/2018-2019/all_comps/Real-Madrid-Stats-All-Competitions: HTTP Error 429: Too Many Requests\n",
      "Error reading data from https://fbref.com/en/squads/dcc91a7b/2018-2019/all_comps/Valencia-Stats-All-Competitions: HTTP Error 429: Too Many Requests\n",
      "Error reading data from https://fbref.com/en/squads/7848bd64/2018-2019/all_comps/Getafe-Stats-All-Competitions: HTTP Error 429: Too Many Requests\n",
      "Error reading data from https://fbref.com/en/squads/ad2be733/2018-2019/all_comps/Sevilla-Stats-All-Competitions: HTTP Error 429: Too Many Requests\n",
      "Error reading data from https://fbref.com/en/squads/a8661628/2018-2019/all_comps/Espanyol-Stats-All-Competitions: HTTP Error 429: Too Many Requests\n",
      "Error reading data from https://fbref.com/en/squads/2b390eca/2018-2019/all_comps/Athletic-Club-Stats-All-Competitions: HTTP Error 429: Too Many Requests\n",
      "Error reading data from https://fbref.com/en/squads/e31d1cd9/2018-2019/all_comps/Real-Sociedad-Stats-All-Competitions: HTTP Error 429: Too Many Requests\n",
      "Error reading data from https://fbref.com/en/squads/fc536746/2018-2019/all_comps/Real-Betis-Stats-All-Competitions: HTTP Error 429: Too Many Requests\n",
      "Error reading data from https://fbref.com/en/squads/8d6fd021/2018-2019/all_comps/Alaves-Stats-All-Competitions: HTTP Error 429: Too Many Requests\n",
      "Error reading data from https://fbref.com/en/squads/bea5c710/2018-2019/all_comps/Eibar-Stats-All-Competitions: HTTP Error 429: Too Many Requests\n",
      "Error reading data from https://fbref.com/en/squads/7c6f2c78/2018-2019/all_comps/Leganes-Stats-All-Competitions: HTTP Error 429: Too Many Requests\n",
      "Error reading data from https://fbref.com/en/squads/2a8183b3/2018-2019/all_comps/Villarreal-Stats-All-Competitions: HTTP Error 429: Too Many Requests\n",
      "Error reading data from https://fbref.com/en/squads/9800b6a1/2018-2019/all_comps/Levante-Stats-All-Competitions: HTTP Error 429: Too Many Requests\n",
      "Error reading data from https://fbref.com/en/squads/17859612/2018-2019/all_comps/Valladolid-Stats-All-Competitions: HTTP Error 429: Too Many Requests\n",
      "Error reading data from https://fbref.com/en/squads/f25da7fb/2018-2019/all_comps/Celta-Vigo-Stats-All-Competitions: HTTP Error 429: Too Many Requests\n",
      "Error reading data from https://fbref.com/en/squads/9024a00a/2018-2019/all_comps/Girona-Stats-All-Competitions: HTTP Error 429: Too Many Requests\n",
      "Error reading data from https://fbref.com/en/squads/c6c493e6/2018-2019/all_comps/Huesca-Stats-All-Competitions: HTTP Error 429: Too Many Requests\n",
      "Error reading data from https://fbref.com/en/squads/98e8af82/2018-2019/all_comps/Rayo-Vallecano-Stats-All-Competitions: HTTP Error 429: Too Many Requests\n",
      "Error reading data from https://fbref.com/en/squads/e0652b02/2018-2019/all_comps/Juventus-Stats-All-Competitions: HTTP Error 429: Too Many Requests\n",
      "Error reading data from https://fbref.com/en/squads/d48ad4ff/2018-2019/all_comps/Napoli-Stats-All-Competitions: HTTP Error 429: Too Many Requests\n",
      "Error reading data from https://fbref.com/en/squads/922493f3/2018-2019/all_comps/Atalanta-Stats-All-Competitions: HTTP Error 429: Too Many Requests\n",
      "Error reading data from https://fbref.com/en/squads/d609edc0/2018-2019/all_comps/Internazionale-Stats-All-Competitions: HTTP Error 429: Too Many Requests\n",
      "Error reading data from https://fbref.com/en/squads/dc56fe14/2018-2019/all_comps/Milan-Stats-All-Competitions: HTTP Error 429: Too Many Requests\n",
      "Error reading data from https://fbref.com/en/squads/cf74a709/2018-2019/all_comps/Roma-Stats-All-Competitions: HTTP Error 429: Too Many Requests\n",
      "Error reading data from https://fbref.com/en/squads/105360fe/2018-2019/all_comps/Torino-Stats-All-Competitions: HTTP Error 429: Too Many Requests\n",
      "Error reading data from https://fbref.com/en/squads/7213da33/2018-2019/all_comps/Lazio-Stats-All-Competitions: HTTP Error 429: Too Many Requests\n",
      "Error reading data from https://fbref.com/en/squads/8ff9e3b3/2018-2019/all_comps/Sampdoria-Stats-All-Competitions: HTTP Error 429: Too Many Requests\n",
      "Error reading data from https://fbref.com/en/squads/1d8099f8/2018-2019/all_comps/Bologna-Stats-All-Competitions: HTTP Error 429: Too Many Requests\n",
      "Error reading data from https://fbref.com/en/squads/e2befd26/2018-2019/all_comps/Sassuolo-Stats-All-Competitions: HTTP Error 429: Too Many Requests\n",
      "Error reading data from https://fbref.com/en/squads/04eea015/2018-2019/all_comps/Udinese-Stats-All-Competitions: HTTP Error 429: Too Many Requests\n",
      "Error reading data from https://fbref.com/en/squads/1d2fe027/2018-2019/all_comps/SPAL-Stats-All-Competitions: HTTP Error 429: Too Many Requests\n",
      "Error reading data from https://fbref.com/en/squads/eab4234c/2018-2019/all_comps/Parma-Stats-All-Competitions: HTTP Error 429: Too Many Requests\n",
      "Error reading data from https://fbref.com/en/squads/c4260e09/2018-2019/all_comps/Cagliari-Stats-All-Competitions: HTTP Error 429: Too Many Requests\n",
      "Error reading data from https://fbref.com/en/squads/421387cf/2018-2019/all_comps/Fiorentina-Stats-All-Competitions: HTTP Error 429: Too Many Requests\n",
      "Error reading data from https://fbref.com/en/squads/658bf2de/2018-2019/all_comps/Genoa-Stats-All-Competitions: HTTP Error 429: Too Many Requests\n",
      "Error reading data from https://fbref.com/en/squads/a3d88bd8/2018-2019/all_comps/Empoli-Stats-All-Competitions: HTTP Error 429: Too Many Requests\n",
      "Error reading data from https://fbref.com/en/squads/6a7ad59d/2018-2019/all_comps/Frosinone-Stats-All-Competitions: HTTP Error 429: Too Many Requests\n",
      "Error reading data from https://fbref.com/en/squads/cc919b35/2018-2019/all_comps/Chievo-Stats-All-Competitions: HTTP Error 429: Too Many Requests\n",
      "Error reading data from https://fbref.com/en/squads/e2d8892c/2018-2019/all_comps/Paris-Saint-Germain-Stats-All-Competitions: HTTP Error 429: Too Many Requests\n",
      "Error reading data from https://fbref.com/en/squads/cb188c0c/2018-2019/all_comps/Lille-Stats-All-Competitions: HTTP Error 429: Too Many Requests\n",
      "Error reading data from https://fbref.com/en/squads/d53c0b06/2018-2019/all_comps/Lyon-Stats-All-Competitions: HTTP Error 429: Too Many Requests\n",
      "Error reading data from https://fbref.com/en/squads/d298ef2c/2018-2019/all_comps/Saint-Etienne-Stats-All-Competitions: HTTP Error 429: Too Many Requests\n",
      "Error reading data from https://fbref.com/en/squads/5725cc7b/2018-2019/all_comps/Marseille-Stats-All-Competitions: HTTP Error 429: Too Many Requests\n",
      "Error reading data from https://fbref.com/en/squads/281b0e73/2018-2019/all_comps/Montpellier-Stats-All-Competitions: HTTP Error 429: Too Many Requests\n",
      "Error reading data from https://fbref.com/en/squads/132ebc33/2018-2019/all_comps/Nice-Stats-All-Competitions: HTTP Error 429: Too Many Requests\n",
      "Error reading data from https://fbref.com/en/squads/7fdd64e0/2018-2019/all_comps/Reims-Stats-All-Competitions: HTTP Error 429: Too Many Requests\n",
      "Error reading data from https://fbref.com/en/squads/1cbf5f9e/2018-2019/all_comps/Nimes-Stats-All-Competitions: HTTP Error 429: Too Many Requests\n",
      "Error reading data from https://fbref.com/en/squads/b3072e00/2018-2019/all_comps/Rennes-Stats-All-Competitions: HTTP Error 429: Too Many Requests\n",
      "Error reading data from https://fbref.com/en/squads/c0d3eab4/2018-2019/all_comps/Strasbourg-Stats-All-Competitions: HTTP Error 429: Too Many Requests\n",
      "Error reading data from https://fbref.com/en/squads/d7a486cd/2018-2019/all_comps/Nantes-Stats-All-Competitions: HTTP Error 429: Too Many Requests\n",
      "Error reading data from https://fbref.com/en/squads/69236f98/2018-2019/all_comps/Angers-Stats-All-Competitions: HTTP Error 429: Too Many Requests\n",
      "Error reading data from https://fbref.com/en/squads/123f3efe/2018-2019/all_comps/Bordeaux-Stats-All-Competitions: HTTP Error 429: Too Many Requests\n",
      "Error reading data from https://fbref.com/en/squads/25622401/2018-2019/all_comps/Amiens-Stats-All-Competitions: HTTP Error 429: Too Many Requests\n",
      "Error reading data from https://fbref.com/en/squads/3f8c4b5f/2018-2019/all_comps/Toulouse-Stats-All-Competitions: HTTP Error 429: Too Many Requests\n",
      "Error reading data from https://fbref.com/en/squads/fd6114db/2018-2019/all_comps/Monaco-Stats-All-Competitions: HTTP Error 429: Too Many Requests\n",
      "Error reading data from https://fbref.com/en/squads/8dfb7350/2018-2019/all_comps/Dijon-Stats-All-Competitions: HTTP Error 429: Too Many Requests\n",
      "Error reading data from https://fbref.com/en/squads/74229020/2018-2019/all_comps/Caen-Stats-All-Competitions: HTTP Error 429: Too Many Requests\n",
      "Error reading data from https://fbref.com/en/squads/d41b5f53/2018-2019/all_comps/Guingamp-Stats-All-Competitions: HTTP Error 429: Too Many Requests\n"
     ]
    },
    {
     "ename": "ValueError",
     "evalue": "No objects to concatenate",
     "output_type": "error",
     "traceback": [
      "\u001b[0;31m---------------------------------------------------------------------------\u001b[0m",
      "\u001b[0;31mValueError\u001b[0m                                Traceback (most recent call last)",
      "Cell \u001b[0;32mIn[20], line 37\u001b[0m\n\u001b[1;32m     34\u001b[0m         \u001b[38;5;28mprint\u001b[39m(\u001b[38;5;124mf\u001b[39m\u001b[38;5;124m\"\u001b[39m\u001b[38;5;124mError reading data from \u001b[39m\u001b[38;5;132;01m{\u001b[39;00murl\u001b[38;5;132;01m}\u001b[39;00m\u001b[38;5;124m: \u001b[39m\u001b[38;5;132;01m{\u001b[39;00m\u001b[38;5;28mstr\u001b[39m(e)\u001b[38;5;132;01m}\u001b[39;00m\u001b[38;5;124m\"\u001b[39m)\n\u001b[1;32m     36\u001b[0m \u001b[38;5;66;03m# Concatenate all dataframes into one\u001b[39;00m\n\u001b[0;32m---> 37\u001b[0m total_df \u001b[38;5;241m=\u001b[39m \u001b[43mpd\u001b[49m\u001b[38;5;241;43m.\u001b[39;49m\u001b[43mconcat\u001b[49m\u001b[43m(\u001b[49m\u001b[43mdfs\u001b[49m\u001b[43m,\u001b[49m\u001b[43m \u001b[49m\u001b[43mignore_index\u001b[49m\u001b[38;5;241;43m=\u001b[39;49m\u001b[38;5;28;43;01mTrue\u001b[39;49;00m\u001b[43m)\u001b[49m\n",
      "File \u001b[0;32m~/Desktop/code/datapool18_19/venv/lib/python3.12/site-packages/pandas/core/reshape/concat.py:382\u001b[0m, in \u001b[0;36mconcat\u001b[0;34m(objs, axis, join, ignore_index, keys, levels, names, verify_integrity, sort, copy)\u001b[0m\n\u001b[1;32m    379\u001b[0m \u001b[38;5;28;01melif\u001b[39;00m copy \u001b[38;5;129;01mand\u001b[39;00m using_copy_on_write():\n\u001b[1;32m    380\u001b[0m     copy \u001b[38;5;241m=\u001b[39m \u001b[38;5;28;01mFalse\u001b[39;00m\n\u001b[0;32m--> 382\u001b[0m op \u001b[38;5;241m=\u001b[39m \u001b[43m_Concatenator\u001b[49m\u001b[43m(\u001b[49m\n\u001b[1;32m    383\u001b[0m \u001b[43m    \u001b[49m\u001b[43mobjs\u001b[49m\u001b[43m,\u001b[49m\n\u001b[1;32m    384\u001b[0m \u001b[43m    \u001b[49m\u001b[43maxis\u001b[49m\u001b[38;5;241;43m=\u001b[39;49m\u001b[43maxis\u001b[49m\u001b[43m,\u001b[49m\n\u001b[1;32m    385\u001b[0m \u001b[43m    \u001b[49m\u001b[43mignore_index\u001b[49m\u001b[38;5;241;43m=\u001b[39;49m\u001b[43mignore_index\u001b[49m\u001b[43m,\u001b[49m\n\u001b[1;32m    386\u001b[0m \u001b[43m    \u001b[49m\u001b[43mjoin\u001b[49m\u001b[38;5;241;43m=\u001b[39;49m\u001b[43mjoin\u001b[49m\u001b[43m,\u001b[49m\n\u001b[1;32m    387\u001b[0m \u001b[43m    \u001b[49m\u001b[43mkeys\u001b[49m\u001b[38;5;241;43m=\u001b[39;49m\u001b[43mkeys\u001b[49m\u001b[43m,\u001b[49m\n\u001b[1;32m    388\u001b[0m \u001b[43m    \u001b[49m\u001b[43mlevels\u001b[49m\u001b[38;5;241;43m=\u001b[39;49m\u001b[43mlevels\u001b[49m\u001b[43m,\u001b[49m\n\u001b[1;32m    389\u001b[0m \u001b[43m    \u001b[49m\u001b[43mnames\u001b[49m\u001b[38;5;241;43m=\u001b[39;49m\u001b[43mnames\u001b[49m\u001b[43m,\u001b[49m\n\u001b[1;32m    390\u001b[0m \u001b[43m    \u001b[49m\u001b[43mverify_integrity\u001b[49m\u001b[38;5;241;43m=\u001b[39;49m\u001b[43mverify_integrity\u001b[49m\u001b[43m,\u001b[49m\n\u001b[1;32m    391\u001b[0m \u001b[43m    \u001b[49m\u001b[43mcopy\u001b[49m\u001b[38;5;241;43m=\u001b[39;49m\u001b[43mcopy\u001b[49m\u001b[43m,\u001b[49m\n\u001b[1;32m    392\u001b[0m \u001b[43m    \u001b[49m\u001b[43msort\u001b[49m\u001b[38;5;241;43m=\u001b[39;49m\u001b[43msort\u001b[49m\u001b[43m,\u001b[49m\n\u001b[1;32m    393\u001b[0m \u001b[43m\u001b[49m\u001b[43m)\u001b[49m\n\u001b[1;32m    395\u001b[0m \u001b[38;5;28;01mreturn\u001b[39;00m op\u001b[38;5;241m.\u001b[39mget_result()\n",
      "File \u001b[0;32m~/Desktop/code/datapool18_19/venv/lib/python3.12/site-packages/pandas/core/reshape/concat.py:445\u001b[0m, in \u001b[0;36m_Concatenator.__init__\u001b[0;34m(self, objs, axis, join, keys, levels, names, ignore_index, verify_integrity, copy, sort)\u001b[0m\n\u001b[1;32m    442\u001b[0m \u001b[38;5;28mself\u001b[39m\u001b[38;5;241m.\u001b[39mverify_integrity \u001b[38;5;241m=\u001b[39m verify_integrity\n\u001b[1;32m    443\u001b[0m \u001b[38;5;28mself\u001b[39m\u001b[38;5;241m.\u001b[39mcopy \u001b[38;5;241m=\u001b[39m copy\n\u001b[0;32m--> 445\u001b[0m objs, keys \u001b[38;5;241m=\u001b[39m \u001b[38;5;28;43mself\u001b[39;49m\u001b[38;5;241;43m.\u001b[39;49m\u001b[43m_clean_keys_and_objs\u001b[49m\u001b[43m(\u001b[49m\u001b[43mobjs\u001b[49m\u001b[43m,\u001b[49m\u001b[43m \u001b[49m\u001b[43mkeys\u001b[49m\u001b[43m)\u001b[49m\n\u001b[1;32m    447\u001b[0m \u001b[38;5;66;03m# figure out what our result ndim is going to be\u001b[39;00m\n\u001b[1;32m    448\u001b[0m ndims \u001b[38;5;241m=\u001b[39m \u001b[38;5;28mself\u001b[39m\u001b[38;5;241m.\u001b[39m_get_ndims(objs)\n",
      "File \u001b[0;32m~/Desktop/code/datapool18_19/venv/lib/python3.12/site-packages/pandas/core/reshape/concat.py:507\u001b[0m, in \u001b[0;36m_Concatenator._clean_keys_and_objs\u001b[0;34m(self, objs, keys)\u001b[0m\n\u001b[1;32m    504\u001b[0m     objs_list \u001b[38;5;241m=\u001b[39m \u001b[38;5;28mlist\u001b[39m(objs)\n\u001b[1;32m    506\u001b[0m \u001b[38;5;28;01mif\u001b[39;00m \u001b[38;5;28mlen\u001b[39m(objs_list) \u001b[38;5;241m==\u001b[39m \u001b[38;5;241m0\u001b[39m:\n\u001b[0;32m--> 507\u001b[0m     \u001b[38;5;28;01mraise\u001b[39;00m \u001b[38;5;167;01mValueError\u001b[39;00m(\u001b[38;5;124m\"\u001b[39m\u001b[38;5;124mNo objects to concatenate\u001b[39m\u001b[38;5;124m\"\u001b[39m)\n\u001b[1;32m    509\u001b[0m \u001b[38;5;28;01mif\u001b[39;00m keys \u001b[38;5;129;01mis\u001b[39;00m \u001b[38;5;28;01mNone\u001b[39;00m:\n\u001b[1;32m    510\u001b[0m     objs_list \u001b[38;5;241m=\u001b[39m \u001b[38;5;28mlist\u001b[39m(com\u001b[38;5;241m.\u001b[39mnot_none(\u001b[38;5;241m*\u001b[39mobjs_list))\n",
      "\u001b[0;31mValueError\u001b[0m: No objects to concatenate"
     ]
    }
   ],
   "source": [
    "from urllib.parse import urlparse\n",
    "# Initialize an empty list to store dataframes\n",
    "dfs = []\n",
    "\n",
    "# Set the delay between requests (in seconds)\n",
    "delay_between_requests = 1  # Adjust this value as needed\n",
    "\n",
    "for url in url_list:\n",
    "    try:\n",
    "        # Read HTML tables from the URL\n",
    "        tables = pd.read_html(url, attrs={\"id\": \"stats_gca_combined\"})\n",
    "\n",
    "        df = tables[0]\n",
    "        print(tables[0].head())\n",
    "        # Drop the last two rows\n",
    "        df = df.iloc[:-2]\n",
    "        \n",
    "        # Extract club name from the URL using regex\n",
    "        club_name_match = re.search(r\"all_comps/(.*?)-Stats-All-Competitions\", url)\n",
    "        if club_name_match:\n",
    "            club_name = club_name_match.group(1).replace('-', ' ')\n",
    "        else:\n",
    "            raise ValueError(\"Club name not found in URL pattern.\")\n",
    "        \n",
    "        # Create a new column with the club name\n",
    "        df['Club'] = club_name\n",
    "        \n",
    "        # Append the dataframe to the list\n",
    "        dfs.append(df)\n",
    "        \n",
    "        # Introduce a delay before making the next request\n",
    "        time.sleep(delay_between_requests)\n",
    "    except Exception as e:\n",
    "        print(f\"Error reading data from {url}: {str(e)}\")\n",
    "\n",
    "# Concatenate all dataframes into one\n",
    "total_df = pd.concat(dfs, ignore_index=True)"
   ]
  },
  {
   "cell_type": "code",
   "execution_count": 6,
   "metadata": {},
   "outputs": [
    {
     "name": "stdout",
     "output_type": "stream",
     "text": [
      "<class 'pandas.core.frame.DataFrame'>\n",
      "RangeIndex: 2630 entries, 0 to 2629\n",
      "Data columns (total 29 columns):\n",
      " #   Column                          Non-Null Count  Dtype  \n",
      "---  ------                          --------------  -----  \n",
      " 0   (Unnamed: 0_level_0, Player)    2630 non-null   object \n",
      " 1   (Unnamed: 1_level_0, Nation)    2628 non-null   object \n",
      " 2   (Unnamed: 2_level_0, Pos)       2630 non-null   object \n",
      " 3   (Unnamed: 3_level_0, Age)       2630 non-null   float64\n",
      " 4   (Unnamed: 4_level_0, 90s)       2630 non-null   float64\n",
      " 5   (Touches, Touches)              2541 non-null   float64\n",
      " 6   (Touches, Def Pen)              2541 non-null   float64\n",
      " 7   (Touches, Def 3rd)              2541 non-null   float64\n",
      " 8   (Touches, Mid 3rd)              2541 non-null   float64\n",
      " 9   (Touches, Att 3rd)              2541 non-null   float64\n",
      " 10  (Touches, Att Pen)              2541 non-null   float64\n",
      " 11  (Touches, Live)                 2541 non-null   float64\n",
      " 12  (Take-Ons, Att)                 2541 non-null   float64\n",
      " 13  (Take-Ons, Succ)                2541 non-null   float64\n",
      " 14  (Take-Ons, Succ%)               2233 non-null   float64\n",
      " 15  (Take-Ons, Tkld)                2541 non-null   float64\n",
      " 16  (Take-Ons, Tkld%)               2233 non-null   float64\n",
      " 17  (Carries, Carries)              2541 non-null   float64\n",
      " 18  (Carries, TotDist)              2541 non-null   float64\n",
      " 19  (Carries, PrgDist)              2541 non-null   float64\n",
      " 20  (Carries, PrgC)                 2541 non-null   float64\n",
      " 21  (Carries, 1/3)                  2541 non-null   float64\n",
      " 22  (Carries, CPA)                  2541 non-null   float64\n",
      " 23  (Carries, Mis)                  2541 non-null   float64\n",
      " 24  (Carries, Dis)                  2541 non-null   float64\n",
      " 25  (Receiving, Rec)                2541 non-null   float64\n",
      " 26  (Receiving, PrgR)               2541 non-null   float64\n",
      " 27  (Unnamed: 27_level_0, Matches)  2630 non-null   object \n",
      " 28  (Club, )                        2630 non-null   object \n",
      "dtypes: float64(24), object(5)\n",
      "memory usage: 596.0+ KB\n"
     ]
    }
   ],
   "source": [
    "total_df.info()"
   ]
  },
  {
   "cell_type": "code",
   "execution_count": 5,
   "metadata": {},
   "outputs": [],
   "source": [
    "total_df_saved = total_df.copy()"
   ]
  },
  {
   "cell_type": "code",
   "execution_count": 6,
   "metadata": {},
   "outputs": [],
   "source": [
    "total_df = total_df_saved.copy()"
   ]
  },
  {
   "cell_type": "code",
   "execution_count": 4,
   "metadata": {},
   "outputs": [],
   "source": [
    "if 'Club' in total_df.columns:\n",
    "    total_df.insert(1, \"Club\", total_df.pop(\"Club\"))\n",
    "else:\n",
    "    total_df.insert(1, \"Club\", \"\")\n",
    "\n",
    "# remove the club column\n",
    "# total_df.drop(columns=['Club'], inplace=True)\n",
    "\n",
    "#drop all rows with that have NaN values in \"Sh\"\n",
    "# total_df.dropna(subset=['Sh'], inplace=True)"
   ]
  },
  {
   "cell_type": "code",
   "execution_count": 176,
   "metadata": {},
   "outputs": [
    {
     "name": "stdout",
     "output_type": "stream",
     "text": [
      "<class 'pandas.core.frame.DataFrame'>\n",
      "RangeIndex: 2225 entries, 0 to 2224\n",
      "Data columns (total 15 columns):\n",
      " #   Column  Non-Null Count  Dtype  \n",
      "---  ------  --------------  -----  \n",
      " 0   Player  2225 non-null   object \n",
      " 1           2225 non-null   object \n",
      " 2   Nation  2224 non-null   object \n",
      " 3   Pos     2225 non-null   object \n",
      " 4   Age     2225 non-null   float64\n",
      " 5   90s     2225 non-null   float64\n",
      " 6   Gls     511 non-null    float64\n",
      " 7   Sh      402 non-null    float64\n",
      " 8   SoT     402 non-null    float64\n",
      " 9   SoT%    302 non-null    float64\n",
      " 10  Sh/90   402 non-null    float64\n",
      " 11  SoT/90  402 non-null    float64\n",
      " 12  G/Sh    302 non-null    float64\n",
      " 13  G/SoT   227 non-null    float64\n",
      " 14  Dist    152 non-null    float64\n",
      "dtypes: float64(11), object(4)\n",
      "memory usage: 260.9+ KB\n"
     ]
    }
   ],
   "source": [
    "total_df.info()\n",
    "total_df.rename(columns={'': 'Club'}, inplace=True)\n",
    "# aceesss the sot/90 column"
   ]
  },
  {
   "cell_type": "code",
   "execution_count": 8,
   "metadata": {},
   "outputs": [],
   "source": [
    "total_df = total_df.iloc[:, :-1]"
   ]
  },
  {
   "cell_type": "code",
   "execution_count": 9,
   "metadata": {},
   "outputs": [],
   "source": [
    "total_df.columns = total_df.columns.get_level_values(1)"
   ]
  },
  {
   "cell_type": "code",
   "execution_count": 10,
   "metadata": {},
   "outputs": [],
   "source": [
    "# cleaning Nation values so only the uppercase string will be kept\n",
    "total_df['Nation'] = total_df['Nation'].str.split().str[1]"
   ]
  },
  {
   "cell_type": "code",
   "execution_count": 15,
   "metadata": {},
   "outputs": [
    {
     "name": "stdout",
     "output_type": "stream",
     "text": [
      "Index(['PassLive', 'PassDead', 'TO', 'Sh', 'Fld', 'Def'], dtype='object')\n"
     ]
    }
   ],
   "source": [
    "# print out all column names which are duplicate in the df\n",
    "print(total_df.columns[total_df.columns.duplicated()])"
   ]
  },
  {
   "cell_type": "code",
   "execution_count": 216,
   "metadata": {},
   "outputs": [],
   "source": [
    "# Drop rows where the value for \"Min\" column equals zero or is NaN\n",
    "total_df = total_df[(total_df[\"Sh\"] != 0) & (~total_df[\"Sh\"].isna() == False)]"
   ]
  },
  {
   "cell_type": "code",
   "execution_count": 12,
   "metadata": {},
   "outputs": [],
   "source": [
    "total_df.to_csv(\"t5_leagues_players_gca.csv\", index=False)"
   ]
  },
  {
   "cell_type": "code",
   "execution_count": null,
   "metadata": {},
   "outputs": [],
   "source": []
  }
 ],
 "metadata": {
  "kernelspec": {
   "display_name": "venv",
   "language": "python",
   "name": "python3"
  },
  "language_info": {
   "codemirror_mode": {
    "name": "ipython",
    "version": 3
   },
   "file_extension": ".py",
   "mimetype": "text/x-python",
   "name": "python",
   "nbconvert_exporter": "python",
   "pygments_lexer": "ipython3",
   "version": "3.12.0"
  }
 },
 "nbformat": 4,
 "nbformat_minor": 2
}
