{
 "cells": [
  {
   "cell_type": "code",
   "execution_count": null,
   "metadata": {},
   "outputs": [],
   "source": [
    "import pandas as pd\n",
    "\n",
    "# Mapping der Clubnamen\n",
    "club_name_mapping = {\n",
    "    'Arsenal': 'Arsenal',\n",
    "    'Bournemouth': 'Bournemouth',\n",
    "    'Brighton': 'Brighton and Hove Albion',\n",
    "    'Burnley': 'Burnley',\n",
    "    'Cardiff': 'Cardiff City',\n",
    "    'Chelsea': 'Chelsea',\n",
    "    'Crystal Palace': 'Crystal Palace',\n",
    "    'Everton': 'Everton',\n",
    "    'Fulham': 'Fulham',\n",
    "    'Huddersfield': 'Huddersfield Town',\n",
    "    'Leicester': 'Leicester City',\n",
    "    'Liverpool': 'Liverpool',\n",
    "    'Manchester City': 'Manchester City',\n",
    "    'Manchester Utd': 'Manchester United',\n",
    "    'Newcastle Utd': 'Newcastle United',\n",
    "    'Southampton': 'Southampton',\n",
    "    'Tottenham': 'Tottenham Hotspur',\n",
    "    'Watford': 'Watford',\n",
    "    'West Ham': 'West Ham United',\n",
    "    'Wolves': 'Wolverhampton Wanderers'\n",
    "}\n",
    "\n",
    "# Pfad zur CSV-Datei\n",
    "csv_path = '../GOALS_ONLY_SORTED.csv'\n",
    "\n",
    "# CSV-Datei laden\n",
    "df = pd.read_csv(csv_path)\n",
    "\n",
    "# Clubnamen umändern\n",
    "df['Squad'] = df['Squad'].map(club_name_mapping)\n",
    "\n",
    "# Geänderte CSV-Datei speichern\n",
    "df.to_csv('../GOALS_ONLY_SORTED_UPDATED.csv', index=False)\n",
    "\n",
    "print(\"Die Clubnamen wurden erfolgreich umgeändert und die Datei wurde als 'GOALS_ONLY_SORTED_UPDATED.csv' gespeichert.\")\n"
   ]
  }
 ],
 "metadata": {
  "language_info": {
   "name": "python"
  }
 },
 "nbformat": 4,
 "nbformat_minor": 2
}
