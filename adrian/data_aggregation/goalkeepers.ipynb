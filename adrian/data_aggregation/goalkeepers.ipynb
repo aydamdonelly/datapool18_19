{
 "cells": [
  {
   "cell_type": "code",
   "execution_count": 3,
   "metadata": {},
   "outputs": [],
   "source": [
    "import pandas as pd"
   ]
  },
  {
   "cell_type": "code",
   "execution_count": 1,
   "metadata": {},
   "outputs": [
    {
     "name": "stdout",
     "output_type": "stream",
     "text": [
      "https://fbref.com/en/squads/b8fd03ef/2018-2019/matchlogs/c9/keeper/Manchester-City-Match-Logs-Premier-League\n",
      "20\n"
     ]
    }
   ],
   "source": [
    "# creating list of urls for each top5 league club from the 18-19 season\n",
    "url_list = open('urls/goalkeepers_pl.txt').read().splitlines()\n",
    "print(url_list[0])\n",
    "print(len(url_list))"
   ]
  },
  {
   "cell_type": "code",
   "execution_count": 15,
   "metadata": {},
   "outputs": [],
   "source": [
    "import re\n",
    "import pandas as pd\n",
    "import time\n",
    "\n",
    "# empty list to store dataframes\n",
    "dfs = []\n",
    "\n",
    "# delay between requests (in seconds)\n",
    "# to avoid getting blocked by the server\n",
    "delay_between_requests = 2 \n",
    "\n",
    "for url in url_list:\n",
    "    try:\n",
    "\n",
    "        tables = pd.read_html(url, header = 1)\n",
    "        df = tables[0]\n",
    "        \n",
    "        # extract club name from the URL using regex\n",
    "        club_name_match = re.search(r\"squads/.*?/.*?/.*?/.*?/.*?/(.*?)-Match-Logs-Premier-League\", url)\n",
    "        if club_name_match:\n",
    "            club_name = club_name_match.group(1).replace('-', ' ')\n",
    "        else:\n",
    "            raise ValueError(\"Club name not found in URL pattern.\")\n",
    "        \n",
    "        # create a new column with the club name\n",
    "        df['Club'] = club_name\n",
    "        \n",
    "        dfs.append(df)\n",
    "        \n",
    "        # delay before making the next request\n",
    "        time.sleep(delay_between_requests)\n",
    "    except Exception as e:\n",
    "        print(f\"Error reading data from {url}: {str(e)}\")\n",
    "\n",
    "# concatenate all dataframes into one\n",
    "total_df = pd.concat(dfs, ignore_index=True)\n"
   ]
  },
  {
   "cell_type": "code",
   "execution_count": 24,
   "metadata": {},
   "outputs": [
    {
     "name": "stdout",
     "output_type": "stream",
     "text": [
      "<class 'pandas.core.frame.DataFrame'>\n",
      "Index: 760 entries, 0 to 778\n",
      "Data columns (total 36 columns):\n",
      " #   Column     Non-Null Count  Dtype  \n",
      "---  ------     --------------  -----  \n",
      " 0   Date       760 non-null    object \n",
      " 1   Time       760 non-null    object \n",
      " 2   Club       760 non-null    object \n",
      " 3   Round      760 non-null    object \n",
      " 4   Day        760 non-null    object \n",
      " 5   Venue      760 non-null    object \n",
      " 6   Result     760 non-null    object \n",
      " 7   GF         760 non-null    int64  \n",
      " 8   GA         760 non-null    int64  \n",
      " 9   Opponent   760 non-null    object \n",
      " 10  SoTA       760 non-null    int64  \n",
      " 11  GA.1       760 non-null    int64  \n",
      " 12  Saves      760 non-null    int64  \n",
      " 13  Save%      733 non-null    float64\n",
      " 14  CS         760 non-null    int64  \n",
      " 15  PSxG       760 non-null    float64\n",
      " 16  PSxG+/-    760 non-null    float64\n",
      " 17  PKatt      760 non-null    int64  \n",
      " 18  PKA        760 non-null    int64  \n",
      " 19  PKsv       760 non-null    int64  \n",
      " 20  PKm        760 non-null    int64  \n",
      " 21  Cmp        760 non-null    int64  \n",
      " 22  Att        760 non-null    int64  \n",
      " 23  Cmp%       754 non-null    float64\n",
      " 24  Att (GK)   760 non-null    int64  \n",
      " 25  Thr        760 non-null    int64  \n",
      " 26  Launch%    760 non-null    float64\n",
      " 27  AvgLen     760 non-null    float64\n",
      " 28  Att.1      760 non-null    int64  \n",
      " 29  Launch%.1  759 non-null    float64\n",
      " 30  AvgLen.1   759 non-null    float64\n",
      " 31  Opp        760 non-null    int64  \n",
      " 32  Stp        760 non-null    int64  \n",
      " 33  Stp%       759 non-null    float64\n",
      " 34  #OPA       760 non-null    int64  \n",
      " 35  AvgDist    693 non-null    float64\n",
      "dtypes: float64(10), int64(18), object(8)\n",
      "memory usage: 219.7+ KB\n"
     ]
    }
   ],
   "source": [
    "total_df.info()"
   ]
  },
  {
   "cell_type": "code",
   "execution_count": 19,
   "metadata": {},
   "outputs": [],
   "source": [
    "total_df = total_df.dropna(subset=\"Date\")"
   ]
  },
  {
   "cell_type": "code",
   "execution_count": 21,
   "metadata": {},
   "outputs": [],
   "source": [
    "club_index = total_df.columns.get_loc(\"Club\")\n",
    "club_column = total_df.pop(\"Club\")\n",
    "total_df.insert(2, \"Club\", club_column)"
   ]
  },
  {
   "cell_type": "code",
   "execution_count": 23,
   "metadata": {},
   "outputs": [],
   "source": [
    "total_df = total_df.iloc[:, :-1]"
   ]
  },
  {
   "cell_type": "code",
   "execution_count": 25,
   "metadata": {},
   "outputs": [],
   "source": [
    "total_df.to_csv(\"goalkeeping_stats_pl.csv\", index = False)"
   ]
  }
 ],
 "metadata": {
  "kernelspec": {
   "display_name": "venv",
   "language": "python",
   "name": "python3"
  },
  "language_info": {
   "codemirror_mode": {
    "name": "ipython",
    "version": 3
   },
   "file_extension": ".py",
   "mimetype": "text/x-python",
   "name": "python",
   "nbconvert_exporter": "python",
   "pygments_lexer": "ipython3",
   "version": "3.12.2"
  }
 },
 "nbformat": 4,
 "nbformat_minor": 2
}
